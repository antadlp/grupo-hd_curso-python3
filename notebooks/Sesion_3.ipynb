{
 "cells": [
  {
   "cell_type": "markdown",
   "metadata": {},
   "source": [
    "# Sesion 3"
   ]
  },
  {
   "cell_type": "markdown",
   "metadata": {},
   "source": [
    "## Centro de masa"
   ]
  },
  {
   "cell_type": "code",
   "execution_count": 8,
   "metadata": {},
   "outputs": [],
   "source": [
    "path = '../inputs/isoctano.xyz'\n",
    "file = open(path, 'r')\n",
    "\n",
    "counter = 0\n",
    "\n",
    "xs = []\n",
    "ys = []\n",
    "zs = []\n",
    "for line in file:\n",
    "    \n",
    "    if 'C' in line:\n",
    "           \n",
    "        x = float(line.split()[1])\n",
    "        y = float(line.split()[2])\n",
    "        z = float(line.split()[3])\n",
    "        \n",
    "        xs.append(x)\n",
    "        ys.append(y)\n",
    "        zs.append(z)\n",
    "        \n",
    "        counter+=1\n",
    "        \n",
    "    \n",
    "\n",
    "\n",
    "    \n",
    "    \n",
    "# print(\"x: {}, y: {}, z: {}\".format(xc5, yc5, zc5))   \n",
    "    \n",
    "    \n",
    "\n"
   ]
  },
  {
   "cell_type": "markdown",
   "metadata": {},
   "source": [
    "## + centro de masa (usando numpy)"
   ]
  },
  {
   "cell_type": "code",
   "execution_count": 36,
   "metadata": {},
   "outputs": [
    {
     "data": {
      "text/plain": [
       "[[1.65, 1.359, 2.594, 0.179, -1.127, -1.272, -2.308, -1.106],\n",
       " [-1.356, 0.119, 0.956, 0.579, 0.07, 0.622, 0.538, -1.459],\n",
       " [-0.053, 0.229, -0.112, -0.63, -0.016, 1.404, -0.869, 0.031]]"
      ]
     },
     "execution_count": 36,
     "metadata": {},
     "output_type": "execute_result"
    }
   ],
   "source": [
    "[xs, ys, zs]"
   ]
  },
  {
   "cell_type": "code",
   "execution_count": null,
   "metadata": {},
   "outputs": [],
   "source": [
    "# <h1>\n",
    "# esc + m   texto, titulos, etc\n",
    "# esc + y   codigo"
   ]
  },
  {
   "cell_type": "code",
   "execution_count": 13,
   "metadata": {},
   "outputs": [
    {
     "ename": "TypeError",
     "evalue": "can only concatenate list (not \"int\") to list",
     "output_type": "error",
     "traceback": [
      "\u001b[0;31m---------------------------------------------------------------------------\u001b[0m",
      "\u001b[0;31mTypeError\u001b[0m                                 Traceback (most recent call last)",
      "\u001b[0;32m<ipython-input-13-26ca2f612dde>\u001b[0m in \u001b[0;36m<module>\u001b[0;34m\u001b[0m\n\u001b[0;32m----> 1\u001b[0;31m \u001b[0mxs\u001b[0m\u001b[0;34m+\u001b[0m\u001b[0;36m2\u001b[0m\u001b[0;34m\u001b[0m\u001b[0;34m\u001b[0m\u001b[0m\n\u001b[0m",
      "\u001b[0;31mTypeError\u001b[0m: can only concatenate list (not \"int\") to list"
     ]
    }
   ],
   "source": [
    "xs+2"
   ]
  },
  {
   "cell_type": "code",
   "execution_count": 20,
   "metadata": {},
   "outputs": [
    {
     "name": "stdout",
     "output_type": "stream",
     "text": [
      "cmx: -0.00387, cmy: 0.00862, cmz: -0.002\n"
     ]
    }
   ],
   "source": [
    "import numpy as np\n",
    "\n",
    "path = '../inputs/isoctano.xyz'\n",
    "file = open(path, 'r')\n",
    "\n",
    "counter = 0\n",
    "\n",
    "xs = []\n",
    "ys = []\n",
    "zs = []\n",
    "for line in file:\n",
    "    \n",
    "    if 'C' in line:\n",
    "           \n",
    "        x = float(line.split()[1])\n",
    "        y = float(line.split()[2])\n",
    "        z = float(line.split()[3])\n",
    "        \n",
    "        xs.append(x)\n",
    "        ys.append(y)\n",
    "        zs.append(z)\n",
    "        \n",
    "        counter+=1\n",
    "        \n",
    "    \n",
    "    \n",
    "cmx = np.divide(np.sum(xs), counter)\n",
    "cmy = np.divide(np.sum(ys), counter)\n",
    "cmz = np.divide(np.sum(zs), counter)\n",
    "\n",
    "cmx = np.round(cmx, decimals=5)\n",
    "cmy = np.round(cmy, decimals=5)\n",
    "cmz = np.round(cmz, decimals=5)\n",
    "\n",
    "print(\"cmx: {}, cmy: {}, cmz: {}\".format(cmx, cmy, cmz))   \n",
    "\n"
   ]
  },
  {
   "cell_type": "code",
   "execution_count": 15,
   "metadata": {},
   "outputs": [
    {
     "data": {
      "text/plain": [
       "-0.003874999999999962"
      ]
     },
     "execution_count": 15,
     "metadata": {},
     "output_type": "execute_result"
    }
   ],
   "source": [
    "cmx"
   ]
  },
  {
   "cell_type": "code",
   "execution_count": 16,
   "metadata": {},
   "outputs": [
    {
     "data": {
      "text/plain": [
       "0.008624999999999966"
      ]
     },
     "execution_count": 16,
     "metadata": {},
     "output_type": "execute_result"
    }
   ],
   "source": [
    "cmy\n"
   ]
  },
  {
   "cell_type": "code",
   "execution_count": 17,
   "metadata": {},
   "outputs": [
    {
     "data": {
      "text/plain": [
       "-0.0020000000000000018"
      ]
     },
     "execution_count": 17,
     "metadata": {},
     "output_type": "execute_result"
    }
   ],
   "source": [
    "cmz"
   ]
  },
  {
   "cell_type": "code",
   "execution_count": 26,
   "metadata": {},
   "outputs": [],
   "source": [
    "dic = {}\n",
    "dic['nombres'] = {}\n",
    "dic['nombres']['mexico'] = ['jose', 'luis', 'oscar']\n",
    "dic['nombres']['usa'] = ['kevin', 'brayan', 'kimberly']\n",
    "dic['tiendas'] = ['wallmart', 'aurrera']"
   ]
  },
  {
   "cell_type": "code",
   "execution_count": 28,
   "metadata": {},
   "outputs": [
    {
     "data": {
      "text/plain": [
       "{'mexico': ['jose', 'luis', 'oscar'], 'usa': ['kevin', 'brayan', 'kimberly']}"
      ]
     },
     "execution_count": 28,
     "metadata": {},
     "output_type": "execute_result"
    }
   ],
   "source": [
    "dic['nombres']"
   ]
  },
  {
   "cell_type": "code",
   "execution_count": 30,
   "metadata": {},
   "outputs": [
    {
     "data": {
      "text/plain": [
       "['jose', 'luis', 'oscar']"
      ]
     },
     "execution_count": 30,
     "metadata": {},
     "output_type": "execute_result"
    }
   ],
   "source": [
    "dic['nombres']['mexico']"
   ]
  },
  {
   "cell_type": "code",
   "execution_count": 32,
   "metadata": {},
   "outputs": [
    {
     "data": {
      "text/plain": [
       "['kevin', 'brayan', 'kimberly']"
      ]
     },
     "execution_count": 32,
     "metadata": {},
     "output_type": "execute_result"
    }
   ],
   "source": [
    "dic['nombres']['usa'] "
   ]
  },
  {
   "cell_type": "code",
   "execution_count": 29,
   "metadata": {},
   "outputs": [
    {
     "data": {
      "text/plain": [
       "['wallmart', 'aurrera']"
      ]
     },
     "execution_count": 29,
     "metadata": {},
     "output_type": "execute_result"
    }
   ],
   "source": [
    "dic['tiendas']"
   ]
  },
  {
   "cell_type": "markdown",
   "metadata": {},
   "source": [
    "## usando pandas"
   ]
  },
  {
   "cell_type": "code",
   "execution_count": 40,
   "metadata": {},
   "outputs": [
    {
     "name": "stdout",
     "output_type": "stream",
     "text": [
      "cmx: -0.00387, cmy: 0.00862, cmz: -0.002\n"
     ]
    }
   ],
   "source": [
    "import numpy as np\n",
    "import pandas as pd\n",
    "\n",
    "path = '../inputs/isoctano.xyz'\n",
    "file = open(path, 'r')\n",
    "\n",
    "dic = {}\n",
    "\n",
    "dic['x'] = {}\n",
    "dic['y'] = {}\n",
    "dic['z'] = {}\n",
    "\n",
    "idx = 0\n",
    "for line in file:\n",
    "    \n",
    "    if 'C' in line:\n",
    "        \n",
    "        x = float(line.split()[1])\n",
    "        y = float(line.split()[2])\n",
    "        z = float(line.split()[3])\n",
    "        \n",
    "        dic['x'][idx] = x\n",
    "        dic['y'][idx] = y\n",
    "        dic['z'][idx] = z\n",
    "\n",
    "        idx+=1\n",
    "        \n",
    "        \n",
    "df = pd.DataFrame(dic)\n",
    "\n",
    "df.to_excel(\"ver.xlsx\")\n",
    "        \n",
    "cmx = df['x'].mean()\n",
    "cmy = df['y'].mean()\n",
    "cmz = df['z'].mean()\n",
    "\n",
    "cmx = np.round(cmx, decimals=5)\n",
    "cmy = np.round(cmy, decimals=5)\n",
    "cmz = np.round(cmz, decimals=5)\n",
    "\n",
    "print(\"cmx: {}, cmy: {}, cmz: {}\".format(cmx, cmy, cmz))     \n",
    "\n"
   ]
  },
  {
   "cell_type": "code",
   "execution_count": null,
   "metadata": {},
   "outputs": [],
   "source": [
    "import numpy as np\n",
    "import pandas as pd\n",
    "\n",
    "path = '../inputs/isoctano.xyz'\n",
    "file = open(path, 'r')\n",
    "\n",
    "dic = {}\n",
    "\n",
    "dic['x'] = {}\n",
    "dic['y'] = {}\n",
    "dic['z'] = {}\n",
    "\n",
    "idx = 0\n",
    "for line in file:\n",
    "    \n",
    "    if 'C' in line:\n",
    "        \n",
    "        x = float(line.split()[1])\n",
    "        y = float(line.split()[2])\n",
    "        z = float(line.split()[3])\n",
    "        \n",
    "        dic['x'][idx] = x\n",
    "        dic['y'][idx] = y\n",
    "        dic['z'][idx] = z\n",
    "\n",
    "        idx+=1\n",
    "        \n",
    "        \n",
    "df = pd.DataFrame(dic)\n",
    "\n",
    "df.to_excel(\"/home/dell/ver.xlsx\")\n",
    "        \n",
    "cmx = df['x'].mean()\n",
    "cmy = df['y'].mean()\n",
    "cmz = df['z'].mean()\n",
    "\n",
    "\n",
    "######################################\n",
    "path = \"centro.xyz\"\n",
    "f = open(path, \"w\")\n",
    "f.write(\"1\\n\")\n",
    "f.write(\"comentario\\n\")\n",
    "f.write(\"X{:12.6f}{:12.6f}{:12.6f}\".format(cmx, cmy, cmz))\n",
    "#   :12 (espacios libres para escribir)\n",
    "#   :.6 las cifras significativas que esscribe\n",
    "#     f indica que son flotantes\n",
    "f.close()\n",
    "    \n",
    "    \n"
   ]
  },
  {
   "cell_type": "code",
   "execution_count": 22,
   "metadata": {},
   "outputs": [
    {
     "name": "stdout",
     "output_type": "stream",
     "text": [
      "centro_6l.xyz\t   draft-Sesion-3.ipynb  Sesion_2.ipynb   tmp_notebook.ipynb\r\n",
      "centro_de_masa.py  old Sesion 1.ipynb\t Sesion 3a.ipynb  Untitled.ipynb\r\n",
      "centro_iso.xyz\t   Sesion 1.ipynb\t Sesion 3.ipynb   ver.xlsx\r\n"
     ]
    }
   ],
   "source": [
    "!ls"
   ]
  },
  {
   "cell_type": "code",
   "execution_count": 42,
   "metadata": {},
   "outputs": [],
   "source": [
    "# https://www.rcsb.org/structure/6LU7"
   ]
  },
  {
   "cell_type": "code",
   "execution_count": 43,
   "metadata": {},
   "outputs": [],
   "source": [
    "import numpy as np\n",
    "import pandas as pd\n",
    "\n",
    "path = '../inputs/6lu7.pdb'\n",
    "file = open(path, 'r')\n",
    "\n",
    "dic = {}\n",
    "\n",
    "dic['x'] = {}\n",
    "dic['y'] = {}\n",
    "dic['z'] = {}\n",
    "\n",
    "idx = 0\n",
    "for line in file:\n",
    "    \n",
    "    sp = line.split()\n",
    "    if ('ATOM' or 'HETATM') in sp[0]:\n",
    "        \n",
    "        if 'C' in sp[-1]:\n",
    "        \n",
    "            x = float(sp[6])\n",
    "            y = float(sp[7])\n",
    "            z = float(sp[8])\n",
    "\n",
    "            dic['x'][idx] = x\n",
    "            dic['y'][idx] = y\n",
    "            dic['z'][idx] = z\n",
    "\n",
    "            idx+=1\n",
    "        \n",
    "        \n",
    "df = pd.DataFrame(dic)\n",
    "\n",
    "# antes pasarlo a excel\n",
    "df.to_excel(\"/home/dell/ver.xlsx\")\n",
    "        \n",
    "cmx = df['x'].mean()\n",
    "cmy = df['y'].mean()\n",
    "cmz = df['z'].mean()\n",
    "\n",
    "# print(np.round(cmx, decimals=6))      \n",
    "\n",
    "\n",
    "path = \"centro_6l.xyz\"\n",
    "f = open(path, \"w\")\n",
    "f.write(\"1\\n\")\n",
    "f.write(\"comentario\\n\")\n",
    "f.write(\"X{:12.6f}{:12.6f}{:12.6f}\".format(cmx, cmy, cmz))\n",
    "f.close()\n",
    "    \n",
    "    \n"
   ]
  },
  {
   "cell_type": "markdown",
   "metadata": {},
   "source": [
    "<img src=\"../imgs/centro-covid.png\">"
   ]
  },
  {
   "cell_type": "markdown",
   "metadata": {},
   "source": [
    "<img src=\"../imgs/centro-covid.png\">"
   ]
  },
  {
   "cell_type": "code",
   "execution_count": null,
   "metadata": {},
   "outputs": [],
   "source": []
  }
 ],
 "metadata": {
  "kernelspec": {
   "display_name": "Python 3",
   "language": "python",
   "name": "python3"
  },
  "language_info": {
   "codemirror_mode": {
    "name": "ipython",
    "version": 3
   },
   "file_extension": ".py",
   "mimetype": "text/x-python",
   "name": "python",
   "nbconvert_exporter": "python",
   "pygments_lexer": "ipython3",
   "version": "3.7.1"
  }
 },
 "nbformat": 4,
 "nbformat_minor": 2
}
