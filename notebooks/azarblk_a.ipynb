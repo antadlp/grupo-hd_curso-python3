{
 "cells": [
  {
   "cell_type": "markdown",
   "metadata": {},
   "source": [
    "# azarblk.f "
   ]
  },
  {
   "cell_type": "code",
   "execution_count": 2,
   "metadata": {},
   "outputs": [
    {
     "data": {
      "text/html": [
       "<div>\n",
       "<style scoped>\n",
       "    .dataframe tbody tr th:only-of-type {\n",
       "        vertical-align: middle;\n",
       "    }\n",
       "\n",
       "    .dataframe tbody tr th {\n",
       "        vertical-align: top;\n",
       "    }\n",
       "\n",
       "    .dataframe thead th {\n",
       "        text-align: right;\n",
       "    }\n",
       "</style>\n",
       "<table border=\"1\" class=\"dataframe\">\n",
       "  <thead>\n",
       "    <tr style=\"text-align: right;\">\n",
       "      <th></th>\n",
       "      <th>rnd</th>\n",
       "    </tr>\n",
       "  </thead>\n",
       "  <tbody>\n",
       "    <tr>\n",
       "      <th>0</th>\n",
       "      <td>0.766443</td>\n",
       "    </tr>\n",
       "    <tr>\n",
       "      <th>1</th>\n",
       "      <td>0.306431</td>\n",
       "    </tr>\n",
       "    <tr>\n",
       "      <th>2</th>\n",
       "      <td>0.278776</td>\n",
       "    </tr>\n",
       "    <tr>\n",
       "      <th>3</th>\n",
       "      <td>0.403816</td>\n",
       "    </tr>\n",
       "    <tr>\n",
       "      <th>4</th>\n",
       "      <td>0.939974</td>\n",
       "    </tr>\n",
       "  </tbody>\n",
       "</table>\n",
       "</div>"
      ],
      "text/plain": [
       "        rnd\n",
       "0  0.766443\n",
       "1  0.306431\n",
       "2  0.278776\n",
       "3  0.403816\n",
       "4  0.939974"
      ]
     },
     "execution_count": 2,
     "metadata": {},
     "output_type": "execute_result"
    }
   ],
   "source": [
    "import pandas as pd\n",
    "import numpy as np\n",
    "\n",
    "path = \"../data/ranf.dat\"\n",
    "f = open(path, 'r')\n",
    "ranf = {}\n",
    "ranf['rnd'] = {}\n",
    "idx = 0\n",
    "for line in f:\n",
    "    ranf['rnd'][idx] = float(line.split()[0])\n",
    "    idx+=1\n",
    "    \n",
    "f.close()\n",
    "\n",
    "dfr = pd.DataFrame(ranf)\n",
    "dfr.head()"
   ]
  },
  {
   "cell_type": "code",
   "execution_count": 7,
   "metadata": {},
   "outputs": [
    {
     "data": {
      "text/plain": [
       "105"
      ]
     },
     "execution_count": 7,
     "metadata": {},
     "output_type": "execute_result"
    }
   ],
   "source": [
    "# para ver la cantidad de datos\n",
    "len(dfr)"
   ]
  },
  {
   "cell_type": "code",
   "execution_count": null,
   "metadata": {},
   "outputs": [],
   "source": [
    "   4.9623489379882812E-002"
   ]
  },
  {
   "cell_type": "code",
   "execution_count": 6,
   "metadata": {},
   "outputs": [
    {
     "data": {
      "text/plain": [
       "rnd    0.049623\n",
       "Name: 20, dtype: float64"
      ]
     },
     "execution_count": 6,
     "metadata": {},
     "output_type": "execute_result"
    }
   ],
   "source": [
    "dfr.loc[20]"
   ]
  },
  {
   "cell_type": "code",
   "execution_count": 9,
   "metadata": {},
   "outputs": [
    {
     "name": "stdout",
     "output_type": "stream",
     "text": [
      "  0.5740345862 -0.4170321635  0.6006050489\n",
      " -0.2072216655  0.9478948846  1.2879647539\n",
      " -0.2334592782  0.9231366048  1.3675158807\n",
      " -0.1718902647 -0.4747384745  0.7148629692\n",
      "  0.6378595824 -0.2015919819  1.6440771667\n",
      " -0.8152110511 -0.8202859848  2.0236041319\n",
      " -0.1888327357  0.1200067724  0.1069105670\n",
      " -0.7506874810  0.1027109052  1.3829132707\n",
      "  0.6085852280  0.9180164692  0.5157570884\n",
      " -0.7799207429 -0.5102999937  1.9297651148\n"
     ]
    }
   ],
   "source": [
    "import numpy as np\n",
    "import pandas as pd\n",
    "\n",
    "path = \"../data/ranf.dat\"\n",
    "f = open(path, 'r')\n",
    "ranf = {}\n",
    "ranf['rnd'] = {}\n",
    "idx = 0\n",
    "for line in f:\n",
    "    ranf['rnd'][idx] = float(line.split()[0])\n",
    "    idx+=1\n",
    "    \n",
    "f.close()\n",
    "dfr = pd.DataFrame(ranf)\n",
    "\n",
    "N = 10\n",
    "dens = 1.0\n",
    "iter_check = 30\n",
    "\n",
    "box = np.power(np.divide(N, dens), np.divide(1, 3))\n",
    "box2 = box/2\n",
    "\n",
    "r = {}\n",
    "r['x'] = {}\n",
    "r['y'] = {}\n",
    "r['z'] = {}\n",
    "idx = 0\n",
    "# dfr['rnd'].loc[idx] es el ranf(dummy)\n",
    "for i in range(N):\n",
    "    r['x'][i] = box*dfr['rnd'].loc[idx] - box2\n",
    "    r['y'][i] = box*dfr['rnd'].loc[idx + 1] - box2\n",
    "    r['z'][i] = box*dfr['rnd'].loc[idx + 2]\n",
    "    idx+=3\n",
    "    print(\"{:14.10f}{:14.10f}{:14.10f}\".format(r['x'][i],\n",
    "                                               r['y'][i],\n",
    "                                               r['z'][i]))"
   ]
  },
  {
   "cell_type": "code",
   "execution_count": 12,
   "metadata": {},
   "outputs": [
    {
     "name": "stdout",
     "output_type": "stream",
     "text": [
      "  0.5740345862 -0.4170321635 -0.4766122961\n",
      " -0.2072216655  0.9478948846  0.2107474089\n",
      "  0.3452598622 -0.4557619207  0.5328474927\n",
      "  1.0753147585  0.4338965586  0.2284870759\n",
      " -0.3489910686 -0.0716120402 -0.9385463225\n",
      " -0.8152110511 -0.8202859848  0.9463867869\n",
      " -0.5892717151  0.2752709790  0.6895376118\n",
      " -0.9333481111 -0.5504762098 -0.0592842660\n",
      "  0.6085852280  0.9180164692 -0.5614602566\n",
      "  0.7820863219  0.1892559892  1.0638910211\n"
     ]
    }
   ],
   "source": [
    "import numpy as np\n",
    "import pandas as pd\n",
    "\n",
    "path = \"../data/ranf.dat\"\n",
    "f = open(path, 'r')\n",
    "ranf = {}\n",
    "ranf['rnd'] = {}\n",
    "idx = 0\n",
    "for line in f:\n",
    "    ranf['rnd'][idx] = float(line.split()[0])\n",
    "    idx+=1\n",
    "    \n",
    "f.close()\n",
    "dfr = pd.DataFrame(ranf)\n",
    "\n",
    "N = 10\n",
    "dens = 1.0\n",
    "iter_check = 30\n",
    "\n",
    "box = np.power(np.divide(N, dens), np.divide(1, 3))\n",
    "box2 = box/2\n",
    "\n",
    "r = {}\n",
    "r['x'] = {}\n",
    "r['y'] = {}\n",
    "r['z'] = {}\n",
    "idx = 0\n",
    "for i in range(N):\n",
    "    r['x'][i] = box*dfr['rnd'].loc[idx] - box2\n",
    "    r['y'][i] = box*dfr['rnd'].loc[idx + 1] - box2\n",
    "    r['z'][i] = box*dfr['rnd'].loc[idx + 2]\n",
    "    idx+=3\n",
    "    \n",
    "    \n",
    "    \n",
    "for k in range(iter_check):\n",
    "    dr = 0\n",
    "    for i in range(N - 1):\n",
    "        rxi = r['x'][i]\n",
    "        ryi = r['y'][i]\n",
    "        rzi = r['z'][i]\n",
    "        jlist = np.arange(i+1, N, 1)\n",
    "        for j in jlist:\n",
    "            rxij = rxi - r['x'][j]\n",
    "            ryij = ryi - r['y'][j]\n",
    "            rzij = rzi - r['z'][j]\n",
    "            rsij = rxij*rxij+ryij*ryij+rzij*rzij\n",
    "            flag_rsij = False\n",
    "            if (rsij < 0.7):\n",
    "                flag_rsij = True\n",
    "            while(flag_rsij):\n",
    "                r['x'][j] = box*dfr['rnd'].loc[idx] - box2\n",
    "                r['y'][j] = box*dfr['rnd'].loc[idx + 1] - box2\n",
    "                r['z'][j] = box*dfr['rnd'].loc[idx + 2]\n",
    "                \n",
    "                idx+=3\n",
    "                dr=dr+1\n",
    "                \n",
    "                rxij = rxi - r['x'][j]\n",
    "                ryij = ryi - r['y'][j]\n",
    "                rzij = rzi - r['z'][j]\n",
    "                rsij = rxij*rxij+ryij*ryij+rzij*rzij\n",
    "                \n",
    "                if (rsij >= 0.7):\n",
    "                    flag_rsij = False                \n",
    "\n",
    "\n",
    "                \n",
    "for i in range(N):\n",
    "    print(\"{:14.10f}{:14.10f}{:14.10f}\".format(r['x'][i],\n",
    "                                               r['y'][i],\n",
    "                                               r['z'][i]  - box2)) # agregar -box2"
   ]
  },
  {
   "cell_type": "code",
   "execution_count": 14,
   "metadata": {},
   "outputs": [
    {
     "data": {
      "text/plain": [
       "array([[ 0, -1,  0],\n",
       "       [ 0,  3,  1],\n",
       "       [-1,  2,  3],\n",
       "       [ 3,  0,  1],\n",
       "       [-1,  1, -1],\n",
       "       [ 3, -1,  2],\n",
       "       [ 0,  0,  0],\n",
       "       [ 2,  1,  1],\n",
       "       [-1,  0, -1],\n",
       "       [ 3,  2,  2]])"
      ]
     },
     "execution_count": 14,
     "metadata": {},
     "output_type": "execute_result"
    }
   ],
   "source": [
    "import numpy as np\n",
    "\n",
    "np.random.randint(low = -1, high=4, size =(10, 3)) "
   ]
  },
  {
   "cell_type": "code",
   "execution_count": null,
   "metadata": {},
   "outputs": [],
   "source": [
    "np.random.rand(1) # arreglo de un elemento\n",
    "np.random.rand(5) # arreglo 5 elementos\n",
    "np.random.rand(2, 3) # arreglo 2 filas 3 col"
   ]
  },
  {
   "cell_type": "code",
   "execution_count": 16,
   "metadata": {},
   "outputs": [
    {
     "data": {
      "text/plain": [
       "array([0.45981863, 0.08068749, 0.05668194, 0.7147223 , 0.0382552 ,\n",
       "       0.84367712, 0.01495112, 0.79904717, 0.88301933, 0.92378011,\n",
       "       0.47252893, 0.1477559 , 0.51509592, 0.07772025, 0.90151612,\n",
       "       0.93849927, 0.47460221, 0.22948131, 0.41581206, 0.4323441 ,\n",
       "       0.96753711, 0.79333302, 0.54957986, 0.69751322, 0.84662636,\n",
       "       0.68386073, 0.80556192, 0.08303804, 0.25054617, 0.71392669,\n",
       "       0.22586297, 0.06123422, 0.76021091, 0.3178848 , 0.71385642,\n",
       "       0.95843133, 0.03732608, 0.38602917, 0.23829262, 0.11346599,\n",
       "       0.03109322, 0.62602502, 0.24812797, 0.45388234, 0.90121206,\n",
       "       0.23318808, 0.55964907, 0.57540376, 0.34872802, 0.03440156,\n",
       "       0.96956587, 0.0492967 , 0.28678823, 0.36308484, 0.76330198,\n",
       "       0.73615649, 0.30721942, 0.12843757, 0.47170552, 0.90447677,\n",
       "       0.21457388, 0.87314905, 0.33244779, 0.03872717, 0.13278159,\n",
       "       0.69249447, 0.15032056, 0.74487026, 0.41808244, 0.97535664,\n",
       "       0.22769796, 0.93517989, 0.00315637, 0.00821168, 0.60075748,\n",
       "       0.40532691, 0.16018818, 0.87227694, 0.93482346, 0.85983415,\n",
       "       0.83056752, 0.18037108, 0.26067979, 0.10127868, 0.07707108,\n",
       "       0.66908387, 0.19026896, 0.21676985, 0.3746981 , 0.109389  ,\n",
       "       0.57211225, 0.99904504, 0.90762596, 0.42734469, 0.03358937,\n",
       "       0.52982779, 0.57194579, 0.28370316, 0.68818581, 0.71810568])"
      ]
     },
     "execution_count": 16,
     "metadata": {},
     "output_type": "execute_result"
    }
   ],
   "source": [
    "import numpy as np\n",
    "\n"
   ]
  },
  {
   "cell_type": "code",
   "execution_count": 18,
   "metadata": {},
   "outputs": [
    {
     "data": {
      "image/png": "[encoded data removed]",
      "text/plain": [
       "<Figure size 432x288 with 1 Axes>"
      ]
     },
     "metadata": {
      "needs_background": "light"
     },
     "output_type": "display_data"
    }
   ],
   "source": [
    "import matplotlib.pyplot as plt\n",
    "import pandas as pd\n",
    "import numpy as np\n",
    "%matplotlib inline\n",
    "\n",
    "\n",
    "sample_data = np.random.normal(0, 0.1, 1000)\n",
    "plt.hist(sample_data)\n",
    "plt.show()"
   ]
  },
  {
   "cell_type": "code",
   "execution_count": 24,
   "metadata": {},
   "outputs": [
    {
     "data": {
      "image/png": "[encoded data removed]",
      "text/plain": [
       "<Figure size 432x288 with 1 Axes>"
      ]
     },
     "metadata": {
      "needs_background": "light"
     },
     "output_type": "display_data"
    }
   ],
   "source": [
    "import matplotlib.pyplot as plt\n",
    "import pandas as pd\n",
    "import numpy as np\n",
    "%matplotlib inline\n",
    "\n",
    "\n",
    "sample_data = np.random.normal(0, 0.1, 1000)\n",
    "plt.hist(sample_data, 100, density=True)\n",
    "plt.show()"
   ]
  },
  {
   "cell_type": "code",
   "execution_count": 21,
   "metadata": {},
   "outputs": [],
   "source": [
    "def gaussiana(x, mu, sigma):\n",
    "    A = np.divide(1, np.sqrt(2*(sigma**2)*np.pi))\n",
    "    arg = (-0.5)*np.power(np.divide((x - mu), sigma), 2)\n",
    "    \n",
    "    return A*np.exp(arg)"
   ]
  },
  {
   "cell_type": "code",
   "execution_count": 25,
   "metadata": {},
   "outputs": [
    {
     "data": {
      "image/png": "[encoded data removed]",
      "text/plain": [
       "<Figure size 432x288 with 1 Axes>"
      ]
     },
     "metadata": {
      "needs_background": "light"
     },
     "output_type": "display_data"
    }
   ],
   "source": [
    "import matplotlib.pyplot as plt\n",
    "import pandas as pd\n",
    "import numpy as np\n",
    "%matplotlib inline\n",
    "\n",
    "x = np.arange(-0.4, 0.4, 0.001)\n",
    "y = gaussiana(x, 0, 0.1)\n",
    "\n",
    "sample_data = np.random.normal(0, 0.1, 10000)\n",
    "plt.hist(sample_data, 100, density=True)\n",
    "\n",
    "plt.plot(x, y, 'r', linewidth=4)\n",
    "\n",
    "\n",
    "\n",
    "plt.show()"
   ]
  },
  {
   "cell_type": "code",
   "execution_count": 26,
   "metadata": {},
   "outputs": [
    {
     "data": {
      "image/png": "[encoded data removed]",
      "text/plain": [
       "<Figure size 432x288 with 1 Axes>"
      ]
     },
     "metadata": {
      "needs_background": "light"
     },
     "output_type": "display_data"
    }
   ],
   "source": [
    "import matplotlib.pyplot as plt\n",
    "import pandas as pd\n",
    "import numpy as np\n",
    "%matplotlib inline\n",
    "\n",
    "s = np.random.uniform(0, 1, 1000)\n",
    "\n",
    "plt.hist(s, 50, density=True)\n",
    "\n",
    "plt.show()"
   ]
  },
  {
   "cell_type": "code",
   "execution_count": 3,
   "metadata": {},
   "outputs": [
    {
     "name": "stdout",
     "output_type": "stream",
     "text": [
      "0\n"
     ]
    }
   ],
   "source": [
    "import numpy as np\n",
    "import pandas as pd\n",
    "np.random.seed(0)\n",
    "\n",
    "def ranf():\n",
    "    return np.random.uniform()\n",
    "\n",
    "\n",
    "N = 30\n",
    "dens = 1.0\n",
    "iter_check = 500\n",
    "\n",
    "box = np.power(np.divide(N, dens), np.divide(1, 2))\n",
    "box2 = box/2\n",
    "\n",
    "r = {}\n",
    "r['x'] = {}\n",
    "r['y'] = {}\n",
    "idx = 0\n",
    "for i in range(N):\n",
    "    r['x'][i] = box*ranf() - box2\n",
    "    r['y'][i] = box*ranf() - box2\n",
    "    idx+=3\n",
    "    \n",
    "    \n",
    "    \n",
    "for k in range(iter_check):\n",
    "    dr = 0\n",
    "    for i in range(N - 1):\n",
    "        rxi = r['x'][i]\n",
    "        ryi = r['y'][i]\n",
    "        jlist = np.arange(i+1, N, 1)\n",
    "        for j in jlist:\n",
    "            rxij = rxi - r['x'][j]\n",
    "            ryij = ryi - r['y'][j]\n",
    "            rsij = rxij*rxij+ryij*ryij\n",
    "            flag_rsij = False\n",
    "            if (rsij < 0.7):\n",
    "                flag_rsij = True\n",
    "            while(flag_rsij):\n",
    "                r['x'][j] = box*ranf() - box2\n",
    "                r['y'][j] = box*ranf() - box2\n",
    "                \n",
    "                dr=dr+1\n",
    "                \n",
    "                rxij = rxi - r['x'][j]\n",
    "                ryij = ryi - r['y'][j]\n",
    "                rsij = rxij*rxij+ryij*ryij\n",
    "                \n",
    "                if (rsij >= 0.7):\n",
    "                    flag_rsij = False\n",
    "                    \n",
    "\n",
    "path = 'conf_init.pkl'\n",
    "pd.DataFrame(r).to_pickle(path)\n",
    "\n",
    "print(dr)\n",
    "# print(dr)  jugar con dr  \n",
    "# for i in range(N):\n",
    "#     print(\"{:14.10f}{:14.10f}{:14.10f}\".format(r['x'][i],\n",
    "#                                                r['y'][i],\n",
    "#                                                r['z'][i] - box2))"
   ]
  },
  {
   "cell_type": "code",
   "execution_count": 4,
   "metadata": {},
   "outputs": [
    {
     "data": {
      "image/png": "[encoded data removed]",
      "text/plain": [
       "<Figure size 432x288 with 1 Axes>"
      ]
     },
     "metadata": {
      "needs_background": "light"
     },
     "output_type": "display_data"
    }
   ],
   "source": [
    "import matplotlib.pyplot as plt\n",
    "from matplotlib.animation import FuncAnimation\n",
    "import matplotlib.animation as animation\n",
    "import pandas as pd\n",
    "import numpy as np\n",
    "plt.style.use('seaborn-whitegrid')\n",
    "import numpy as np\n",
    "%matplotlib inline\n",
    "np.random.seed(1)\n",
    "\n",
    "path = 'conf_init.pkl'\n",
    "dfr = pd.read_pickle(path)\n",
    "\n",
    "x = dfr['x'].values\n",
    "y = dfr['y'].values\n",
    "\n",
    "N = len(x)\n",
    "\n",
    "colors = np.random.rand(N)\n",
    "sizes = 1000*np.random.rand(N)\n",
    "\n",
    "plt.scatter(x, y, c=colors, s=sizes, alpha=0.5, cmap='viridis')\n",
    "\n",
    "plt.show()"
   ]
  },
  {
   "cell_type": "code",
   "execution_count": null,
   "metadata": {},
   "outputs": [],
   "source": [
    "def funcion1"
   ]
  },
  {
   "cell_type": "code",
   "execution_count": 12,
   "metadata": {},
   "outputs": [
    {
     "data": {
      "text/plain": [
       "(100, 33.4)"
      ]
     },
     "execution_count": 12,
     "metadata": {},
     "output_type": "execute_result"
    }
   ],
   "source": [
    "# conf_inicial_2d(orden1, orden2, orden3) # esto ya no\n",
    "conf_inicial_2d(dens=33.4,\n",
    "                N=100)\n"
   ]
  },
  {
   "cell_type": "code",
   "execution_count": 9,
   "metadata": {},
   "outputs": [],
   "source": [
    "def conf_inicial_2d(**kwargs):\n",
    "    \n",
    "    N = kwargs.get('N', 20)\n",
    "    dens = kwargs.get('dens', 1)\n",
    "    iter_check = kwargs.get('iter_check', 10)\n",
    "    tol = kwargs.get('tol', 0.7)\n",
    "    seed = kwargs.get('seed', 0)\n",
    "    path_out = kwargs.get('path_out', 'conf_inicial.pkl')\n",
    "    \n",
    "    return N, dens"
   ]
  },
  {
   "cell_type": "code",
   "execution_count": 15,
   "metadata": {},
   "outputs": [],
   "source": [
    "import pandas as pd\n",
    "import numpy as np\n",
    "\n",
    "def ranf():\n",
    "    return np.random.uniform()\n",
    "\n",
    "def conf_inicial_2d(**kwargs):\n",
    "    \n",
    "    N = kwargs.get('N', 10)\n",
    "    dens = kwargs.get('dens', 1.0)\n",
    "    iter_check = kwargs.get('iter_check', 10)\n",
    "    tol = kwargs.get('tol', 0.7)\n",
    "    seed = kwargs.get('seed', 0)\n",
    "    path_out = kwargs.get('path_out', 'conf_inicial.pkl')\n",
    "    \n",
    "    np.random.seed(seed)\n",
    "\n",
    "    box = np.power(np.divide(N, dens), np.divide(1, 2))\n",
    "    box2 = box/2\n",
    "\n",
    "    r = {}\n",
    "    r['x'] = {}\n",
    "    r['y'] = {}\n",
    "    for i in range(N):\n",
    "        r['x'][i] = box*ranf() - box2\n",
    "        r['y'][i] = box*ranf() - box2\n",
    "\n",
    "\n",
    "    for k in range(iter_check):\n",
    "        dr = 0\n",
    "        for i in range(N - 1):\n",
    "            rxi = r['x'][i]\n",
    "            ryi = r['y'][i]\n",
    "            jlist = np.arange(i+1, N, 1)\n",
    "            for j in jlist:\n",
    "                rxij = rxi - r['x'][j]\n",
    "                ryij = ryi - r['y'][j]\n",
    "                rsij = rxij*rxij+ryij*ryij\n",
    "                flag_rsij = False\n",
    "                if (rsij < tol):\n",
    "                    flag_rsij = True\n",
    "                while(flag_rsij):\n",
    "                    r['x'][j] = box*ranf() - box2\n",
    "                    r['y'][j] = box*ranf() - box2\n",
    "                    dr=dr+1\n",
    "                    rxij = rxi - r['x'][j]\n",
    "                    ryij = ryi - r['y'][j]\n",
    "                    rsij = rxij*rxij+ryij*ryij\n",
    "\n",
    "                    if (rsij >= 0.7):\n",
    "                        flag_rsij = False\n",
    "\n",
    "    dfr = pd.DataFrame(r)\n",
    "    dfr.to_pickle(path_out)\n",
    "    \n",
    "    dic = {}\n",
    "    dic['df'] = dfr\n",
    "    dic['dr'] = dr\n",
    "    dic['box'] = box\n",
    "    \n",
    "    return dic\n",
    "\n",
    "\n"
   ]
  },
  {
   "cell_type": "code",
   "execution_count": 22,
   "metadata": {},
   "outputs": [
    {
     "data": {
      "image/png": "[encoded data removed]",
      "text/plain": [
       "<Figure size 432x288 with 1 Axes>"
      ]
     },
     "metadata": {
      "needs_background": "light"
     },
     "output_type": "display_data"
    }
   ],
   "source": [
    "import matplotlib.pyplot as plt\n",
    "from matplotlib.animation import FuncAnimation\n",
    "import matplotlib.animation as animation\n",
    "import pandas as pd\n",
    "import numpy as np\n",
    "plt.style.use('seaborn-whitegrid')\n",
    "import numpy as np\n",
    "%matplotlib inline\n",
    "np.random.seed(1)\n",
    "\n",
    "dic = conf_inicial_2d(N=10, iter_check=20)\n",
    "dfr = dic['df']\n",
    "\n",
    "x = dfr['x'].values\n",
    "y = dfr['y'].values\n",
    "\n",
    "N = len(x)\n",
    "\n",
    "colors = np.random.rand(N)\n",
    "sizes = 1000*np.random.rand(N)\n",
    "\n",
    "plt.scatter(x, y, c=colors, s=sizes, alpha=0.5, cmap='viridis')\n",
    "\n",
    "plt.show()"
   ]
  },
  {
   "cell_type": "code",
   "execution_count": 23,
   "metadata": {},
   "outputs": [
    {
     "name": "stdout",
     "output_type": "stream",
     "text": [
      "Requirement already satisfied: mendeleev in /home/antadlp/anaconda3/envs/tf2/lib/python3.7/site-packages (0.6.0)\n",
      "Requirement already satisfied: pandas in /home/antadlp/anaconda3/envs/tf2/lib/python3.7/site-packages (from mendeleev) (1.0.3)\n",
      "Requirement already satisfied: colorama in /home/antadlp/anaconda3/envs/tf2/lib/python3.7/site-packages (from mendeleev) (0.4.3)\n",
      "Requirement already satisfied: pyfiglet in /home/antadlp/anaconda3/envs/tf2/lib/python3.7/site-packages (from mendeleev) (0.8.post1)\n",
      "Requirement already satisfied: sqlalchemy in /home/antadlp/anaconda3/envs/tf2/lib/python3.7/site-packages (from mendeleev) (1.3.16)\n",
      "Requirement already satisfied: numpy in /home/antadlp/anaconda3/envs/tf2/lib/python3.7/site-packages (from mendeleev) (1.18.1)\n",
      "Requirement already satisfied: pytz>=2017.2 in /home/antadlp/anaconda3/envs/tf2/lib/python3.7/site-packages (from pandas->mendeleev) (2019.3)\n",
      "Requirement already satisfied: python-dateutil>=2.6.1 in /home/antadlp/anaconda3/envs/tf2/lib/python3.7/site-packages (from pandas->mendeleev) (2.8.1)\n",
      "Requirement already satisfied: six>=1.5 in /home/antadlp/anaconda3/envs/tf2/lib/python3.7/site-packages (from python-dateutil>=2.6.1->pandas->mendeleev) (1.14.0)\n"
     ]
    }
   ],
   "source": [
    "!pip install mendeleev"
   ]
  },
  {
   "cell_type": "code",
   "execution_count": 24,
   "metadata": {},
   "outputs": [],
   "source": [
    "from mendeleev import element"
   ]
  },
  {
   "cell_type": "code",
   "execution_count": 27,
   "metadata": {},
   "outputs": [],
   "source": [
    "from mendeleev import element\n",
    "\n",
    "s = element('S')"
   ]
  },
  {
   "cell_type": "code",
   "execution_count": 29,
   "metadata": {},
   "outputs": [
    {
     "data": {
      "text/plain": [
       "32.06"
      ]
     },
     "execution_count": 29,
     "metadata": {},
     "output_type": "execute_result"
    }
   ],
   "source": [
    "s.atomic_weight"
   ]
  },
  {
   "cell_type": "code",
   "execution_count": 30,
   "metadata": {},
   "outputs": [
    {
     "data": {
      "text/plain": [
       "16"
      ]
     },
     "execution_count": 30,
     "metadata": {},
     "output_type": "execute_result"
    }
   ],
   "source": [
    "s.atomic_number"
   ]
  },
  {
   "cell_type": "code",
   "execution_count": 32,
   "metadata": {},
   "outputs": [
    {
     "data": {
      "text/plain": [
       "array(['c', 'c'], dtype='<U1')"
      ]
     },
     "execution_count": 32,
     "metadata": {},
     "output_type": "execute_result"
    }
   ],
   "source": [
    "lista = ['a', 'b', 'c']\n",
    "np.random.choice(lista, size=2)"
   ]
  },
  {
   "cell_type": "code",
   "execution_count": 35,
   "metadata": {},
   "outputs": [
    {
     "data": {
      "text/plain": [
       "array(['Na', 'He', 'Na', 'He', 'He', 'He', 'He', 'C', 'Na', 'He', 'He',\n",
       "       'C', 'Na', 'C', 'He', 'He', 'He', 'He', 'He', 'C', 'He', 'Na',\n",
       "       'Na', 'Na', 'He', 'He', 'Na', 'He', 'Na', 'Na', 'He', 'C', 'C',\n",
       "       'C', 'He', 'He', 'C', 'He', 'He', 'C', 'Na', 'Na', 'He', 'Na', 'C',\n",
       "       'C', 'Na', 'C', 'Na', 'Na', 'C', 'Na', 'He', 'He', 'Na', 'C', 'C',\n",
       "       'Na', 'Na', 'C', 'He', 'Na', 'He', 'Na', 'He', 'Na', 'C', 'Na',\n",
       "       'C', 'He', 'C', 'C', 'Na', 'Na', 'He', 'C', 'He', 'He', 'He', 'Na',\n",
       "       'He', 'C', 'He', 'Na', 'C', 'He', 'C', 'Na', 'He', 'He', 'He',\n",
       "       'Na', 'C', 'He', 'He', 'He', 'He', 'C', 'Na', 'Na'], dtype='<U2')"
      ]
     },
     "execution_count": 35,
     "metadata": {},
     "output_type": "execute_result"
    }
   ],
   "source": [
    "N = 100\n",
    "lista = ['He', 'C', 'Na']\n",
    "np.random.choice(lista, size=N)"
   ]
  },
  {
   "cell_type": "code",
   "execution_count": 2,
   "metadata": {},
   "outputs": [],
   "source": [
    "import pandas as pd\n",
    "import numpy as np\n",
    "from mendeleev import element\n",
    "\n",
    "def ranf():\n",
    "    return np.random.uniform()\n",
    "\n",
    "def conf_inicial_2d(**kwargs):\n",
    "    \n",
    "    N = kwargs.get('N', 20)\n",
    "    dens = kwargs.get('dens', 1)\n",
    "    iter_check = kwargs.get('iter_check', 10)\n",
    "    tol = kwargs.get('tol', 0.7)\n",
    "    seed = kwargs.get('seed', 0)\n",
    "    path_out = kwargs.get('path_out', 'conf_inicial.pkl')\n",
    "    elements = kwargs.get('elements', ['He'])\n",
    "    fsize = kwargs.get('fsize', 250)\n",
    "   \n",
    "    np.random.seed(seed)\n",
    "    elms = np.random.choice(elements, size=N)\n",
    "    \n",
    "    mu_e =  kwargs.get('mu_e', 0.7)\n",
    "    sigma_e = kwargs.get('sigma_e', 0.3)\n",
    "    dist_e = np.abs(np.random.normal(mu_e, sigma_e, N))\n",
    "    charges = kwargs.get('charges', dist_e)\n",
    "\n",
    "    box = np.power(np.divide(N, dens), np.divide(1, 2))\n",
    "    box2 = box/2\n",
    "\n",
    "    r = {}\n",
    "    r['x'] = {}\n",
    "    r['y'] = {}\n",
    "    r['vx'] = {}\n",
    "    r['vy'] = {}\n",
    "    r['element'] = {}\n",
    "    r['m'] = {}\n",
    "    r['e'] = {}\n",
    "    r['sizes'] = {}\n",
    "    \n",
    "    for i in range(N):\n",
    "        r['x'][i] = box*ranf() - box2\n",
    "        r['y'][i] = box*ranf() - box2\n",
    "        r['vx'][i] = np.random.randn()\n",
    "        r['vy'][i] = np.random.randn()\n",
    "        el = elms[i]\n",
    "        m = element(el).atomic_weight \n",
    "        r['element'][i] = el\n",
    "        r['m'][i] = m\n",
    "        r['e'][i] = charges[i]\n",
    "        r['sizes'][i] = fsize*m\n",
    "\n",
    "\n",
    "    for k in range(iter_check):\n",
    "        dr = 0\n",
    "        for i in range(N - 1):\n",
    "            rxi = r['x'][i]\n",
    "            ryi = r['y'][i]\n",
    "            jlist = np.arange(i+1, N, 1)\n",
    "            for j in jlist:\n",
    "                rxij = rxi - r['x'][j]\n",
    "                ryij = ryi - r['y'][j]\n",
    "                rsij = rxij*rxij+ryij*ryij\n",
    "                flag_rsij = False\n",
    "                if (rsij < tol):\n",
    "                    flag_rsij = True\n",
    "                while(flag_rsij):\n",
    "                    r['x'][j] = box*ranf() - box2\n",
    "                    r['y'][j] = box*ranf() - box2\n",
    "                    dr=dr+1\n",
    "                    rxij = rxi - r['x'][j]\n",
    "                    ryij = ryi - r['y'][j]\n",
    "                    rsij = rxij*rxij+ryij*ryij\n",
    "\n",
    "                    if (rsij >= 0.7):\n",
    "                        flag_rsij = False\n",
    "            \n",
    "    dfr = pd.DataFrame(r)\n",
    "    dfr.to_pickle(path_out)\n",
    "    \n",
    "   \n",
    "    dic = {}\n",
    "    dic['df'] = dfr\n",
    "    dic['dr'] = dr\n",
    "    dic['box'] = box\n",
    "    dic['path_out'] = path_out\n",
    "    \n",
    "    return dic\n",
    "\n",
    "\n"
   ]
  },
  {
   "cell_type": "code",
   "execution_count": 6,
   "metadata": {},
   "outputs": [],
   "source": [
    "dic = conf_inicial_2d(N=22,\n",
    "                      iter_check=50,\n",
    "                      elements=['Pb', 'H', 'Ar', 'Rb'],\n",
    "                      path_out=\"/home/antadlp/confixyxy.pkl\")\n",
    "df = dic['df']"
   ]
  },
  {
   "cell_type": "code",
   "execution_count": 5,
   "metadata": {},
   "outputs": [
    {
     "data": {
      "text/plain": [
       "dict_keys(['df', 'dr', 'box', 'path_out'])"
      ]
     },
     "execution_count": 5,
     "metadata": {},
     "output_type": "execute_result"
    }
   ],
   "source": [
    "dic.keys()"
   ]
  },
  {
   "cell_type": "code",
   "execution_count": 8,
   "metadata": {},
   "outputs": [
    {
     "data": {
      "text/plain": [
       "array([[ 0.8528128 , -0.65896636],\n",
       "       [-2.06272538,  0.78220523],\n",
       "       [-1.74048994, -0.86571777],\n",
       "       [-0.28798443,  2.29067635],\n",
       "       [ 1.72666426, -1.58304846],\n",
       "       [-1.19875023, -1.59957444],\n",
       "       [ 1.96754786,  1.00488077],\n",
       "       [-0.62118989, -0.30082017],\n",
       "       [ 0.49176908,  1.12224566],\n",
       "       [-0.65676109,  1.07875136],\n",
       "       [ 0.90277426,  0.31238851],\n",
       "       [ 1.71848544,  2.23039356],\n",
       "       [ 0.78522428, -1.72702111],\n",
       "       [-1.22939164,  2.03664418],\n",
       "       [-0.1708464 , -1.04301382],\n",
       "       [-1.54019334,  0.09867043],\n",
       "       [ 2.15281979, -0.67838023],\n",
       "       [-2.0349394 , -2.03749378],\n",
       "       [-0.44116962, -2.23116886],\n",
       "       [ 2.20792618, -2.32710123],\n",
       "       [ 0.63220389,  2.15356805],\n",
       "       [ 1.30946761,  1.38644172]])"
      ]
     },
     "execution_count": 8,
     "metadata": {},
     "output_type": "execute_result"
    }
   ],
   "source": [
    "df[['x', 'y']].values"
   ]
  },
  {
   "cell_type": "code",
   "execution_count": null,
   "metadata": {},
   "outputs": [],
   "source": [
    "def multi_coulomb(qi, qj, ri, rj):\n",
    "    \n",
    "    f = 138.935\n",
    "    rij = np.subtract(rj, ri) # resta para calcular el rij\n",
    "    rij_dot = np.sum(np.multiply (rij, rij), axis=1) \n",
    "    rij_norm = np.sqrt(rij_dot)\n",
    "    rij3 = np.power(rij_norm, 3)\n",
    "    \n",
    "    _ = f*np.divide(np.multiply(qi, qj), rij3)\n",
    "    \n",
    "    return np.multiply(rij.T, _)"
   ]
  }
 ],
 "metadata": {
  "kernelspec": {
   "display_name": "Python 3",
   "language": "python",
   "name": "python3"
  },
  "language_info": {
   "codemirror_mode": {
    "name": "ipython",
    "version": 3
   },
   "file_extension": ".py",
   "mimetype": "text/x-python",
   "name": "python",
   "nbconvert_exporter": "python",
   "pygments_lexer": "ipython3",
   "version": "3.7.7"
  }
 },
 "nbformat": 4,
 "nbformat_minor": 4
}
