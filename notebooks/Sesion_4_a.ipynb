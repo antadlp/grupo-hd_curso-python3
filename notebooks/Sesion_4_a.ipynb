{
 "cells": [
  {
   "cell_type": "markdown",
   "metadata": {},
   "source": [
    "# Sesion 4"
   ]
  },
  {
   "cell_type": "markdown",
   "metadata": {},
   "source": [
    "### Velocity Verlet"
   ]
  },
  {
   "cell_type": "markdown",
   "metadata": {},
   "source": [
    "#### Ecuaciones"
   ]
  },
  {
   "cell_type": "markdown",
   "metadata": {},
   "source": [
    "$$\n",
    "\\boldsymbol{F}=m\\cfrac{d\\boldsymbol{v}}{dt}=m\\cfrac{d^{2}\\boldsymbol{r}}{dt^{2}}\n",
    "$$"
   ]
  },
  {
   "cell_type": "markdown",
   "metadata": {},
   "source": [
    "$$x\\left(t_{s}+\\triangle\n",
    "t\\right)=x\\left(t_{s}\\right)+v\\left(t_{s}\\right)\\triangle t+\\frac{1}{2m}\\,\n",
    "   F\\left(t_{s}\\right)\\triangle t^{2}\\,.$$"
   ]
  },
  {
   "cell_type": "markdown",
   "metadata": {},
   "source": [
    "$$v\\left(t_{s}+\\triangle\n",
    "   t\\right)=v\\left(t_{s}\\right)+\\frac{1}{2m}\\,\\left[F\\left(t_{s}+\\triangle\n",
    "   t\\right)+F\\left(t_{s}\\right)\\right]\\triangle t\\,.$$"
   ]
  },
  {
   "cell_type": "markdown",
   "metadata": {},
   "source": [
    "#### Algoritmo"
   ]
  },
  {
   "cell_type": "markdown",
   "metadata": {},
   "source": [
    "Suponiendo que se conoce la fuerza $F(t_{s})$, la posición $x(t_{s})$ y la velocidad $v(t_{s})$, el algoritmo que se utiliza en el método de Velocity-Verlet, es el siguiente:"
   ]
  },
  {
   "cell_type": "markdown",
   "metadata": {},
   "source": [
    "1) Calcular la posición $x(t_{s} + \\triangle t)$ <br>\n",
    "2) Evaluar $F(t_{s} + \\triangle t)$, que realmente es:  $F(x(t_{s} + \\triangle t))$, la fuerza depende de la posición <br>\n",
    "3) Calcular la velocidad $v(t_{s} + \\triangle t)$ <br>\n",
    "4) Actualizar el tiempo $t_{s} = t_{s} + \\triangle t$ <br>\n",
    "5) Regresar al paso 1\n"
   ]
  },
  {
   "cell_type": "markdown",
   "metadata": {},
   "source": [
    "#### Algunas referencias: <br>"
   ]
  },
  {
   "cell_type": "markdown",
   "metadata": {},
   "source": [
    "* manual dpoly"
   ]
  },
  {
   "cell_type": "markdown",
   "metadata": {},
   "source": [
    "<img src=\"../imgs/vverlet1.png\">"
   ]
  },
  {
   "cell_type": "markdown",
   "metadata": {},
   "source": [
    "* manual gromacs"
   ]
  },
  {
   "cell_type": "markdown",
   "metadata": {},
   "source": [
    "<img src=\"../imgs/vverlet2.png\">"
   ]
  },
  {
   "cell_type": "markdown",
   "metadata": {},
   "source": [
    "## Ejemplo 1 (oscilador armónico)"
   ]
  },
  {
   "cell_type": "markdown",
   "metadata": {},
   "source": [
    "$$m\\cfrac{d^{2}x}{dt^{2}}=-\\cfrac{k}{m}x$$"
   ]
  },
  {
   "cell_type": "markdown",
   "metadata": {},
   "source": [
    "$$\\omega^{2}=\\cfrac{k}{m}$$\n"
   ]
  },
  {
   "cell_type": "markdown",
   "metadata": {},
   "source": [
    "$$m\\cfrac{d^{2}x}{dt^{2}}=-\\omega^{2}x$$\n"
   ]
  },
  {
   "cell_type": "markdown",
   "metadata": {},
   "source": [
    "#### Soluciones"
   ]
  },
  {
   "cell_type": "markdown",
   "metadata": {},
   "source": [
    "$$x\\left(t\\right)=A\\cos\\left(\\omega t+\\phi\\right)$$"
   ]
  },
  {
   "cell_type": "markdown",
   "metadata": {},
   "source": [
    "$$v\\left(t\\right)=-\\omega A\\sin\\left(\\omega t+\\phi\\right)$$"
   ]
  },
  {
   "cell_type": "markdown",
   "metadata": {},
   "source": [
    "$$x\\left(0\\right)=A\\cos\\left(\\phi\\right)=A$$"
   ]
  },
  {
   "cell_type": "markdown",
   "metadata": {},
   "source": [
    "$$v\\left(0\\right)=-wA\\sin\\left(\\phi\\right)=0$$"
   ]
  },
  {
   "cell_type": "markdown",
   "metadata": {},
   "source": [
    "### Haciendo funciones de posicion y velocidad"
   ]
  },
  {
   "cell_type": "markdown",
   "metadata": {},
   "source": [
    "#### Posicion"
   ]
  },
  {
   "cell_type": "markdown",
   "metadata": {},
   "source": [
    "$$x\\left(t_{s}+\\triangle\n",
    "t\\right)=x\\left(t_{s}\\right)+v\\left(t_{s}\\right)\\triangle t+\\frac{1}{2m}\\,\n",
    "   F\\left(t_{s}\\right)\\triangle t^{2}\\,.$$"
   ]
  },
  {
   "cell_type": "code",
   "execution_count": 3,
   "metadata": {},
   "outputs": [],
   "source": [
    "import pandas as pd\n",
    "import numpy as np\n",
    "\n",
    "def vv_posicion(x, v, F, m, dt):\n",
    "    \n",
    "    x_next = x + v*dt + np.divide(F, 2*m)*np.power(dt, 2)\n",
    "    \n",
    "    return x_next"
   ]
  },
  {
   "cell_type": "markdown",
   "metadata": {},
   "source": [
    "#### Velocidad"
   ]
  },
  {
   "cell_type": "markdown",
   "metadata": {},
   "source": [
    "$$v\\left(t_{s}+\\triangle\n",
    "   t\\right)=v\\left(t_{s}\\right)+\\frac{1}{2m}\\,\\left[F\\left(t_{s}+\\triangle\n",
    "   t\\right)+F\\left(t_{s}\\right)\\right]\\triangle t\\,.$$"
   ]
  },
  {
   "cell_type": "code",
   "execution_count": 6,
   "metadata": {},
   "outputs": [],
   "source": [
    "import pandas as pd\n",
    "import numpy as np\n",
    "\n",
    "def vv_velocidad(v, F_anterior, F_actual, m, dt):\n",
    "    \n",
    "    v_next = v + np.divide(F_anterior + F_actual, 2*m)*dt\n",
    "    \n",
    "    return v_next"
   ]
  },
  {
   "cell_type": "markdown",
   "metadata": {},
   "source": [
    "#### A prueba"
   ]
  },
  {
   "cell_type": "code",
   "execution_count": 27,
   "metadata": {},
   "outputs": [
    {
     "data": {
      "text/html": [
       "<div>\n",
       "<style scoped>\n",
       "    .dataframe tbody tr th:only-of-type {\n",
       "        vertical-align: middle;\n",
       "    }\n",
       "\n",
       "    .dataframe tbody tr th {\n",
       "        vertical-align: top;\n",
       "    }\n",
       "\n",
       "    .dataframe thead th {\n",
       "        text-align: right;\n",
       "    }\n",
       "</style>\n",
       "<table border=\"1\" class=\"dataframe\">\n",
       "  <thead>\n",
       "    <tr style=\"text-align: right;\">\n",
       "      <th></th>\n",
       "      <th>x</th>\n",
       "      <th>v</th>\n",
       "      <th>f</th>\n",
       "      <th>t</th>\n",
       "    </tr>\n",
       "  </thead>\n",
       "  <tbody>\n",
       "    <tr>\n",
       "      <th>0</th>\n",
       "      <td>0.400000</td>\n",
       "      <td>0.000000</td>\n",
       "      <td>-2.500000</td>\n",
       "      <td>0.00</td>\n",
       "    </tr>\n",
       "    <tr>\n",
       "      <th>1</th>\n",
       "      <td>0.399875</td>\n",
       "      <td>-0.014499</td>\n",
       "      <td>-0.399875</td>\n",
       "      <td>0.01</td>\n",
       "    </tr>\n",
       "    <tr>\n",
       "      <th>2</th>\n",
       "      <td>0.399710</td>\n",
       "      <td>-0.018497</td>\n",
       "      <td>-0.399710</td>\n",
       "      <td>0.02</td>\n",
       "    </tr>\n",
       "    <tr>\n",
       "      <th>3</th>\n",
       "      <td>0.399505</td>\n",
       "      <td>-0.022493</td>\n",
       "      <td>-0.399505</td>\n",
       "      <td>0.03</td>\n",
       "    </tr>\n",
       "    <tr>\n",
       "      <th>4</th>\n",
       "      <td>0.399260</td>\n",
       "      <td>-0.026487</td>\n",
       "      <td>-0.399260</td>\n",
       "      <td>0.04</td>\n",
       "    </tr>\n",
       "  </tbody>\n",
       "</table>\n",
       "</div>"
      ],
      "text/plain": [
       "          x         v         f     t\n",
       "0  0.400000  0.000000 -2.500000  0.00\n",
       "1  0.399875 -0.014499 -0.399875  0.01\n",
       "2  0.399710 -0.018497 -0.399710  0.02\n",
       "3  0.399505 -0.022493 -0.399505  0.03\n",
       "4  0.399260 -0.026487 -0.399260  0.04"
      ]
     },
     "execution_count": 27,
     "metadata": {},
     "output_type": "execute_result"
    }
   ],
   "source": [
    "import pandas as pd\n",
    "import numpy as np\n",
    "\n",
    "\n",
    "def vv_posicion(x, v, F, m, dt):\n",
    "    \n",
    "    x_next = x + v*dt + np.divide(F, 2*m)*np.power(dt, 2)\n",
    "    \n",
    "    return x_next\n",
    "\n",
    "def vv_velocidad(v, F_anterior, F_actual, m, dt):\n",
    "    \n",
    "    v_next = v + np.divide(F_anterior + F_actual, 2*m)*dt\n",
    "    \n",
    "    return v_next\n",
    "\n",
    "def fresorte(x, k, m):\n",
    "    \n",
    "    return (-1.0)*np.divide(k, m)*x\n",
    "\n",
    "t0 = 0.0\n",
    "x0 = 0.4\n",
    "v0 = 0.0\n",
    "m = 1.0\n",
    "dt = 0.01\n",
    "k = 1.0\n",
    "\n",
    "pasos = 1000\n",
    "\n",
    "sol = {}\n",
    "sol['x'] = {}\n",
    "sol['v'] = {}\n",
    "sol['f'] = {}\n",
    "sol['t'] = {}\n",
    "\n",
    "idx = 0\n",
    "\n",
    "sol['f'][idx] = fresorte(k, m, x0)\n",
    "sol['x'][idx] = x0\n",
    "sol['v'][idx] = v0\n",
    "sol['t'][idx] = t0\n",
    "\n",
    "for i in range(pasos):\n",
    "    \n",
    "    x = sol['x'][idx]\n",
    "    v = sol['v'][idx]\n",
    "    fa = sol['f'][idx]\n",
    "    t = sol['t'][idx]\n",
    "    \n",
    "    x = vv_posicion(x, v, fa, m, dt)\n",
    "    fb = fresorte(x, k, m)\n",
    "    v = vv_velocidad(v, fa, fb, m, dt)\n",
    "    \n",
    "    idx+=1\n",
    "    t+=dt\n",
    "    \n",
    "    sol['x'][idx] = x\n",
    "    sol['v'][idx] = v\n",
    "    sol['f'][idx] = fb\n",
    "    sol['t'][idx] = t\n",
    "    \n",
    "    \n",
    "    \n",
    "df = pd.DataFrame(sol)\n",
    "\n",
    "df.head()\n",
    "\n"
   ]
  },
  {
   "cell_type": "code",
   "execution_count": 39,
   "metadata": {},
   "outputs": [
    {
     "data": {
      "text/plain": [
       "[<matplotlib.lines.Line2D at 0x7f956498d5f8>]"
      ]
     },
     "execution_count": 39,
     "metadata": {},
     "output_type": "execute_result"
    },
    {
     "data": {
      "image/png": "[encoded data removed]",
      "text/plain": [
       "<Figure size 432x288 with 1 Axes>"
      ]
     },
     "metadata": {
      "needs_background": "light"
     },
     "output_type": "display_data"
    }
   ],
   "source": [
    "import matplotlib.pyplot as plt\n",
    "import pandas as pd\n",
    "import numpy as np\n",
    "%matplotlib inline\n",
    "\n",
    "x = df['x'].values\n",
    "t = df['t'].values\n",
    "\n",
    "plt.plot(t, x, 'r')\n",
    "\n"
   ]
  },
  {
   "cell_type": "markdown",
   "metadata": {},
   "source": [
    "#### Viendo con soluciones analíticas"
   ]
  },
  {
   "cell_type": "markdown",
   "metadata": {},
   "source": [
    "$$x\\left(t\\right)=A\\cos\\left(\\omega t+\\phi\\right)$$"
   ]
  },
  {
   "cell_type": "markdown",
   "metadata": {},
   "source": [
    "$$v\\left(t\\right)=-\\omega A\\sin\\left(\\omega t+\\phi\\right)$$"
   ]
  },
  {
   "cell_type": "code",
   "execution_count": 44,
   "metadata": {},
   "outputs": [
    {
     "data": {
      "text/plain": [
       "[<matplotlib.lines.Line2D at 0x7f956449afd0>]"
      ]
     },
     "execution_count": 44,
     "metadata": {},
     "output_type": "execute_result"
    },
    {
     "data": {
      "image/png": "[encoded data removed]",
      "text/plain": [
       "<Figure size 432x288 with 1 Axes>"
      ]
     },
     "metadata": {
      "needs_background": "light"
     },
     "output_type": "display_data"
    }
   ],
   "source": [
    "import matplotlib.pyplot as plt\n",
    "import pandas as pd\n",
    "import numpy as np\n",
    "%matplotlib inline\n",
    "\n",
    "\n",
    "def a_pos(A, k, m, t):\n",
    "    \n",
    "    return A*np.cos(np.sqrt(np.divide(k,m))*t)\n",
    "    \n",
    "t0 = 0.0\n",
    "x0 = 0.4\n",
    "v0 = 0.0\n",
    "m = 1.0\n",
    "dt = 0.01\n",
    "k = 1.0\n",
    "\n",
    "pasos = 1000\n",
    "tf = t0 + pasos*dt \n",
    "\n",
    "t = np.arange(t0, tf, dt)\n",
    "x = a_pos(x0, k, m, t)\n",
    "\n",
    "plt.plot(t, x, 'r')\n",
    "\n"
   ]
  },
  {
   "cell_type": "markdown",
   "metadata": {},
   "source": [
    "### Comparando velocity-verlet vs analíticas"
   ]
  },
  {
   "cell_type": "code",
   "execution_count": 36,
   "metadata": {},
   "outputs": [
    {
     "data": {
      "image/png": "[encoded data removed]",
      "text/plain": [
       "<Figure size 432x288 with 1 Axes>"
      ]
     },
     "metadata": {
      "needs_background": "light"
     },
     "output_type": "display_data"
    }
   ],
   "source": [
    "import matplotlib.pyplot as plt\n",
    "import pandas as pd\n",
    "import numpy as np\n",
    "%matplotlib inline\n",
    "\n",
    "\n",
    "def vv_posicion(x, v, F, m, dt):\n",
    "    \n",
    "    x_next = x + v*dt + np.divide(F, 2*m)*np.power(dt, 2)\n",
    "    \n",
    "    return x_next\n",
    "\n",
    "def vv_velocidad(v, F_anterior, F_actual, m, dt):\n",
    "    \n",
    "    v_next = v + np.divide(F_anterior + F_actual, 2*m)*dt\n",
    "    \n",
    "    return v_next\n",
    "\n",
    "def fresorte(x, k, m):\n",
    "    \n",
    "    return (-1.0)*np.divide(k, m)*x\n",
    "\n",
    "def a_pos(A, k, m, t):\n",
    "    \n",
    "    return A*np.cos(np.sqrt(np.divide(k,m))*t)\n",
    "\n",
    "\n",
    "t0 = 0.0\n",
    "x0 = 0.4\n",
    "v0 = 0.0\n",
    "m = 1.0\n",
    "dt = 0.01\n",
    "k = 1.0\n",
    "\n",
    "pasos = 1000\n",
    "\n",
    "sol = {}\n",
    "sol['x'] = {}\n",
    "sol['v'] = {}\n",
    "sol['f'] = {}\n",
    "sol['t'] = {}\n",
    "\n",
    "idx = 0\n",
    "\n",
    "sol['f'][idx] = fresorte(k, m, x0)\n",
    "sol['x'][idx] = x0\n",
    "sol['v'][idx] = v0\n",
    "sol['t'][idx] = t0\n",
    "\n",
    "for i in range(pasos):\n",
    "    \n",
    "    x = sol['x'][idx]\n",
    "    v = sol['v'][idx]\n",
    "    fa = sol['f'][idx]\n",
    "    t = sol['t'][idx]\n",
    "    \n",
    "    x = vv_posicion(x, v, fa, m, dt)\n",
    "    fb = fresorte(x, k, m)\n",
    "    v = vv_velocidad(v, fa, fb, m, dt)\n",
    "    \n",
    "    idx+=1\n",
    "    t+=dt\n",
    "    \n",
    "    sol['x'][idx] = x\n",
    "    sol['v'][idx] = v\n",
    "    sol['f'][idx] = fb\n",
    "    sol['t'][idx] = t\n",
    "    \n",
    "    \n",
    "    \n",
    "df = pd.DataFrame(sol)\n",
    "\n",
    "\n",
    "tf = t0 + (pasos + 1)*dt\n",
    "\n",
    "ta = np.arange(t0, tf, dt)\n",
    "xa = a_pos(x0, k, m, ta)\n",
    "\n",
    "tvv = df['t'].values\n",
    "xvv = df['x'].values\n",
    "\n",
    "plt.plot(ta, xa, 'r')\n",
    "plt.plot(tvv, xvv, 'b')\n",
    "\n",
    "plt.show()\n",
    "\n",
    "\n"
   ]
  },
  {
   "cell_type": "code",
   "execution_count": 11,
   "metadata": {},
   "outputs": [],
   "source": [
    "import numpy as np\n",
    "\n",
    "def desviacion_estandard(xreal, xcal):\n",
    "    return np.sqrt(np.mean(np.abs(xcal - xreal)**2))"
   ]
  },
  {
   "cell_type": "code",
   "execution_count": 37,
   "metadata": {},
   "outputs": [
    {
     "data": {
      "text/plain": [
       "0.007256275799853866"
      ]
     },
     "execution_count": 37,
     "metadata": {},
     "output_type": "execute_result"
    }
   ],
   "source": [
    "desviacion_estandard(xa, xvv)"
   ]
  },
  {
   "cell_type": "markdown",
   "metadata": {},
   "source": [
    "## Viendo desviaciones "
   ]
  },
  {
   "cell_type": "code",
   "execution_count": 38,
   "metadata": {},
   "outputs": [
    {
     "data": {
      "image/png": "[encoded data removed]",
      "text/plain": [
       "<Figure size 432x288 with 1 Axes>"
      ]
     },
     "metadata": {
      "needs_background": "light"
     },
     "output_type": "display_data"
    }
   ],
   "source": [
    "import matplotlib.pyplot as plt\n",
    "import pandas as pd\n",
    "import numpy as np\n",
    "%matplotlib inline\n",
    "\n",
    "\n",
    "def vv_posicion(x, v, F, m, dt):\n",
    "    \n",
    "    x_next = x + v*dt + np.divide(F, 2*m)*np.power(dt, 2)\n",
    "    \n",
    "    return x_next\n",
    "\n",
    "def vv_velocidad(v, F_anterior, F_actual, m, dt):\n",
    "    \n",
    "    v_next = v + np.divide(F_anterior + F_actual, 2*m)*dt\n",
    "    \n",
    "    return v_next\n",
    "\n",
    "def fresorte(x, k, m):\n",
    "    \n",
    "    return (-1.0)*np.divide(k, m)*x\n",
    "\n",
    "def a_pos(A, k, m, t):\n",
    "    \n",
    "    return A*np.cos(np.sqrt(np.divide(k,m))*t)\n",
    "\n",
    "def desviacion_estandard(xreal, xcal):\n",
    "    return np.sqrt(np.mean(np.abs(xcal - xreal)**2))\n",
    "\n",
    "dic = {}\n",
    "dic['std'] = {}\n",
    "dic['dt'] = {}\n",
    "\n",
    "idx2 = 0\n",
    "\n",
    "dts = [0.8, 0.5, 0.1, 0.05, 0.01]\n",
    "for dt in dts:\n",
    "    t0 = 0.0\n",
    "    x0 = 0.4\n",
    "    v0 = 0.0\n",
    "    m = 1.0\n",
    "#     dt = 0.01\n",
    "    k = 1.0\n",
    "\n",
    "    pasos = 1000\n",
    "\n",
    "    sol = {}\n",
    "    sol['x'] = {}\n",
    "    sol['v'] = {}\n",
    "    sol['f'] = {}\n",
    "    sol['t'] = {}\n",
    "\n",
    "    idx = 0\n",
    "\n",
    "    sol['f'][idx] = fresorte(k, m, x0)\n",
    "    sol['x'][idx] = x0\n",
    "    sol['v'][idx] = v0\n",
    "    sol['t'][idx] = t0\n",
    "\n",
    "    for i in range(pasos):\n",
    "\n",
    "        x = sol['x'][idx]\n",
    "        v = sol['v'][idx]\n",
    "        fa = sol['f'][idx]\n",
    "        t = sol['t'][idx]\n",
    "\n",
    "        x = vv_posicion(x, v, fa, m, dt)\n",
    "        fb = fresorte(x, k, m)\n",
    "        v = vv_velocidad(v, fa, fb, m, dt)\n",
    "\n",
    "        idx+=1\n",
    "        t+=dt\n",
    "\n",
    "        sol['x'][idx] = x\n",
    "        sol['v'][idx] = v\n",
    "        sol['f'][idx] = fb\n",
    "        sol['t'][idx] = t\n",
    "\n",
    "    df = pd.DataFrame(sol)\n",
    "\n",
    "    tf = t0 + (pasos + 1)*dt\n",
    "\n",
    "    ta = np.arange(t0, tf, dt)\n",
    "    xa = a_pos(x0, k, m, ta)\n",
    "\n",
    "    tvv = df['t'].values\n",
    "    xvv = df['x'].values\n",
    "    \n",
    "    std = desviacion_estandard(xa, xvv)\n",
    "    \n",
    "    dic['std'][idx2] = std\n",
    "    dic['dt'][idx2] = dt\n",
    "    \n",
    "    idx2+=1\n",
    "    \n",
    "df2 = pd.DataFrame(dic)\n",
    "dts = df2['dt'].values\n",
    "stds = df2['std'].values\n",
    "\n",
    "ax = df2.plot(kind='bar', color='g', x='dt', y='std')\n",
    "\n",
    "plt.show()\n",
    "\n",
    "    \n",
    "    "
   ]
  },
  {
   "cell_type": "markdown",
   "metadata": {},
   "source": [
    "# Fuerza de coulomb"
   ]
  },
  {
   "cell_type": "markdown",
   "metadata": {},
   "source": [
    "$$F=\\cfrac{1}{4\\pi\\epsilon_{0}}\\,\\cfrac{q_{a}q_{b}}{r^{2}}$$\n"
   ]
  },
  {
   "cell_type": "code",
   "execution_count": null,
   "metadata": {},
   "outputs": [],
   "source": [
    "# <img src=\"../imgs/atomic-units.png\">"
   ]
  },
  {
   "cell_type": "code",
   "execution_count": null,
   "metadata": {},
   "outputs": [],
   "source": [
    "# <img src=\"../imgs/hartree.png\">"
   ]
  },
  {
   "cell_type": "code",
   "execution_count": null,
   "metadata": {},
   "outputs": [],
   "source": [
    "# <img src=\"../imgs/hartree2.png\">"
   ]
  },
  {
   "cell_type": "markdown",
   "metadata": {},
   "source": [
    "### MD units (gromacs)"
   ]
  },
  {
   "cell_type": "markdown",
   "metadata": {},
   "source": [
    "<img src=\"../imgs/gromacs-md-units-1.png\">"
   ]
  },
  {
   "cell_type": "markdown",
   "metadata": {},
   "source": [
    "<img src=\"../imgs/gromacs-md-units-2.png\">"
   ]
  },
  {
   "cell_type": "markdown",
   "metadata": {},
   "source": [
    "### Unidades fuerza "
   ]
  },
  {
   "cell_type": "markdown",
   "metadata": {},
   "source": [
    "$$F=f\\,\\cfrac{q^{2}}{r^{2}}$$\n"
   ]
  },
  {
   "cell_type": "markdown",
   "metadata": {},
   "source": [
    "$$f=\\cfrac{1}{4\\pi\\epsilon_{0}}=138.935\\,458\\cfrac{\\mbox{kJ}\\,\\mbox{nm}}{\\mbox{mol}\\,\\mbox{e}^{2}}$$\n"
   ]
  },
  {
   "cell_type": "markdown",
   "metadata": {},
   "source": [
    "$$F\\sim\\cfrac{\\mbox{kJ}\\,\\mbox{nm}}{\\mbox{mol}\\,\\mbox{e}^{2}}\\,\\cfrac{\\mbox{e}^{2}}{\\mbox{nm}^{2}}=\\cfrac{\\mbox{kJ}}{\\mbox{mol}\\,}\\,\\cfrac{1}{\\mbox{nm}}$$\n"
   ]
  },
  {
   "cell_type": "markdown",
   "metadata": {},
   "source": [
    "$$\\left[\\cfrac{\\left(138.93\\times10^{3}\\right)\\mbox{kg}\\,\\mbox{m}^{2}\\,\\mbox{s}^{-2}}{\\left(6.022\\times10^{23}\\right)\\left(10^{-9}\\right)\\mbox{m}}\\right]\\,\\left[\\cfrac{\\left(10^{-24}\\right)\\mbox{s}^{2}}{\\left(1.66\\times10^{-27}\\right)\\mbox{kg}}\\right]\\sim\\mbox{m}$$\n",
    "\n"
   ]
  },
  {
   "cell_type": "code",
   "execution_count": 16,
   "metadata": {},
   "outputs": [
    {
     "data": {
      "text/plain": [
       "-8"
      ]
     },
     "execution_count": 16,
     "metadata": {},
     "output_type": "execute_result"
    }
   ],
   "source": [
    "(3 -24) - (23 -9 -27) #10s"
   ]
  },
  {
   "cell_type": "code",
   "execution_count": 18,
   "metadata": {},
   "outputs": [
    {
     "data": {
      "text/plain": [
       "13.897836447083588"
      ]
     },
     "execution_count": 18,
     "metadata": {},
     "output_type": "execute_result"
    }
   ],
   "source": [
    "(138.93/6.022)*(1/1.66) "
   ]
  },
  {
   "cell_type": "code",
   "execution_count": 12,
   "metadata": {},
   "outputs": [],
   "source": [
    "##referencia: pagina 300 manual gromacs 2020, 42p szabo"
   ]
  },
  {
   "cell_type": "markdown",
   "metadata": {},
   "source": [
    "### Prueba cargas"
   ]
  },
  {
   "cell_type": "code",
   "execution_count": 26,
   "metadata": {},
   "outputs": [
    {
     "data": {
      "text/plain": [
       "-347.3375"
      ]
     },
     "execution_count": 26,
     "metadata": {},
     "output_type": "execute_result"
    }
   ],
   "source": [
    "def coulomb(e1, e2, r2):\n",
    "    f = 138.935\n",
    "    \n",
    "    return f*np.divide(e1*e2, r2)\n",
    "\n",
    "m1 = 22.989769 #sodio\n",
    "m2 = 35.453    #cloro\n",
    "\n",
    "e1 = 1.0\n",
    "e2 = -1.0\n",
    "\n",
    "r2 = .4\n",
    "\n",
    "coulomb(e1, e2, r2)\n",
    "\n"
   ]
  },
  {
   "cell_type": "code",
   "execution_count": 34,
   "metadata": {},
   "outputs": [
    {
     "data": {
      "image/png": "[encoded data removed]",
      "text/plain": [
       "<Figure size 432x288 with 1 Axes>"
      ]
     },
     "metadata": {
      "needs_background": "light"
     },
     "output_type": "display_data"
    }
   ],
   "source": [
    "import matplotlib.pyplot as plt\n",
    "import pandas as pd\n",
    "import numpy as np\n",
    "%matplotlib inline\n",
    "\n",
    "def coulomb(e1, e2, r2):\n",
    "    f = 138.935\n",
    "    \n",
    "    return f*np.divide(e1*e2, r2)\n",
    "\n",
    "m1 = 22.989769 #sodio\n",
    "m2 = 35.453    #cloro\n",
    "\n",
    "e1 = 1.0\n",
    "e2 = -1.0\n",
    "\n",
    "r2 = .4\n",
    "\n",
    "\n",
    "rs = np.arange(0.05, 0.3, 0.0001)\n",
    "\n",
    "cs = coulomb(e1, e2, rs)\n",
    "\n",
    "plt.plot(rs, cs, 'r')\n",
    "\n",
    "plt.show()\n",
    "\n"
   ]
  },
  {
   "cell_type": "markdown",
   "metadata": {},
   "source": [
    "### Evolucion con velocity verlet"
   ]
  },
  {
   "cell_type": "code",
   "execution_count": null,
   "metadata": {},
   "outputs": [],
   "source": [
    "import matplotlib.pyplot as plt\n",
    "import pandas as pd\n",
    "import numpy as np\n",
    "%matplotlib inline\n",
    "\n",
    "def coulomb(e1, e2, r):\n",
    "    f = 138.935\n",
    "    \n",
    "    return f*np.divide(e1*e2, np.power(r, 2))\n",
    "\n",
    "m1 = 22.989769 #sodio\n",
    "m2 = 35.453    #cloro\n",
    "\n",
    "e1 = 1.0\n",
    "e2 = -1.0\n",
    "\n",
    "dt = 0.001\n",
    "pasos = 1000\n",
    "    \n",
    "\n",
    "sol = {}\n",
    "sol['x'] = {}\n",
    "sol['y'] = {}\n",
    "sol['z'] = {}\n",
    "\n",
    "sol['vx'] = {}\n",
    "sol['vy'] = {}\n",
    "sol['vz'] = {}\n",
    "\n",
    "sol['fx'] = {}\n",
    "sol['fy'] = {}\n",
    "sol['fz'] = {}\n",
    "\n",
    "sol['t'] = {}\n",
    "\n",
    "idx = 0\n",
    "\n",
    "sol['x'][idx] = x0\n",
    "sol['y'][idx] = y0\n",
    "sol['z'][idx] = z0\n",
    "\n",
    "sol['vx'][idx] = {}\n",
    "sol['vy'][idx] = {}\n",
    "sol['vz'][idx] = {}\n",
    "\n",
    "sol['fx'] = {}\n",
    "sol['fy'] = {}\n",
    "sol['fz'] = {}\n",
    "\n",
    "sol['x'][idx] = x0\n",
    "sol['v'][idx] = v0\n",
    "sol['t'][idx] = t0\n",
    "\n",
    "for i in range(pasos):\n",
    "    \n",
    "    x = sol['x'][idx]\n",
    "    v = sol['v'][idx]\n",
    "    fa = sol['f'][idx]\n",
    "    t = sol['t'][idx]\n",
    "    \n",
    "    x = vv_posicion(x, v, fa, m, dt)\n",
    "    fb = coulomb(e1, e2, x)\n",
    "    v = vv_velocidad(v, fa, fb, m, dt)\n",
    "    \n",
    "    idx+=1\n",
    "    t+=dt\n",
    "    \n",
    "    sol['x'][idx] = x\n",
    "    sol['v'][idx] = v\n",
    "    sol['f'][idx] = fb\n",
    "    sol['t'][idx] = t\n",
    "    \n",
    "    \n",
    "    \n",
    "df = pd.DataFrame(sol)\n",
    "\n",
    "df.head()\n",
    "    \n",
    "    \n",
    "    \n",
    "    \n",
    "\n",
    "\n",
    "\n"
   ]
  },
  {
   "cell_type": "code",
   "execution_count": 35,
   "metadata": {},
   "outputs": [
    {
     "data": {
      "text/plain": [
       "1.7320508075688772"
      ]
     },
     "execution_count": 35,
     "metadata": {},
     "output_type": "execute_result"
    }
   ],
   "source": [
    "import numpy as np\n",
    "\n",
    "a =  np.array([2, 2, 2])\n",
    "b =  np.array([1, 1, 1])\n",
    "\n",
    "\n",
    "np.linalg.norm(a-b)"
   ]
  },
  {
   "cell_type": "code",
   "execution_count": null,
   "metadata": {},
   "outputs": [],
   "source": []
  }
 ],
 "metadata": {
  "kernelspec": {
   "display_name": "Python 3",
   "language": "python",
   "name": "python3"
  },
  "language_info": {
   "codemirror_mode": {
    "name": "ipython",
    "version": 3
   },
   "file_extension": ".py",
   "mimetype": "text/x-python",
   "name": "python",
   "nbconvert_exporter": "python",
   "pygments_lexer": "ipython3",
   "version": "3.7.1"
  }
 },
 "nbformat": 4,
 "nbformat_minor": 2
}
