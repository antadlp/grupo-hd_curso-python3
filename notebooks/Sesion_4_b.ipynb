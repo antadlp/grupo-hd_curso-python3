{
 "cells": [
  {
   "cell_type": "markdown",
   "metadata": {},
   "source": [
    "$\\phi$"
   ]
  },
  {
   "cell_type": "markdown",
   "metadata": {},
   "source": [
    "$$x\\left(t_{s}+\\triangle\n",
    "t\\right)=x\\left(t_{s}\\right)+v\\left(t_{s}\\right)\\triangle t+\\frac{1}{2m}\\,\n",
    "   F\\left(t_{s}\\right)\\triangle t^{2}\\,.$$"
   ]
  },
  {
   "cell_type": "code",
   "execution_count": 12,
   "metadata": {},
   "outputs": [
    {
     "name": "stdout",
     "output_type": "stream",
     "text": [
      "0.0001\n"
     ]
    }
   ],
   "source": [
    "def vv_posicion(x, v, F, m, dt):\n",
    "    \n",
    "    x_next = x       +    v*dt     +      (1/2*m)*F*dt**2\n",
    "    \n",
    "    print(x_next)\n",
    "    \n",
    "    return \"otra cosa\"\n",
    "\n",
    "\n",
    "valor = vv_posicion(0.0, 0.0, 2.0, 1.0, 0.01)"
   ]
  },
  {
   "cell_type": "code",
   "execution_count": 20,
   "metadata": {},
   "outputs": [
    {
     "data": {
      "text/plain": [
       "0.0001"
      ]
     },
     "execution_count": 20,
     "metadata": {},
     "output_type": "execute_result"
    }
   ],
   "source": [
    "def vv_posicion(x, v, F, m, dt):\n",
    "    \n",
    "    return x + v*dt + (1/2*m)*F*dt**2\n",
    "\n",
    "valor = vv_posicion(0.0, 0.0, 2.0, 1.0, 0.01)\n",
    "valor"
   ]
  },
  {
   "cell_type": "markdown",
   "metadata": {},
   "source": [
    "$$v\\left(t_{s}+\\triangle\n",
    "   t\\right)=v\\left(t_{s}\\right)+\\frac{1}{2m}\\,\\left[F\\left(t_{s}+\\triangle\n",
    "   t\\right)+F\\left(t_{s}\\right)\\right]\\triangle t\\,.$$"
   ]
  },
  {
   "cell_type": "markdown",
   "metadata": {},
   "source": [
    "1) Calcular la posición $x(t_{s} + \\triangle t)$ <br>\n",
    "2) Evaluar $F(t_{s} + \\triangle t)$, que realmente es:  $F(x(t_{s} + \\triangle t))$, la fuerza depende de la posición <br>\n",
    "3) Calcular la velocidad $v(t_{s} + \\triangle t)$ <br>\n",
    "4) Actualizar el tiempo $t_{s} = t_{s} + \\triangle t$ <br>\n",
    "5) Regresar al paso 1"
   ]
  },
  {
   "cell_type": "markdown",
   "metadata": {},
   "source": [
    "$$m\\cfrac{d^{2}x}{dt^{2}}=-\\cfrac{k}{m}x$$"
   ]
  },
  {
   "cell_type": "markdown",
   "metadata": {},
   "source": [
    "Suponiendo que se conoce la fuerza $F(t_{s})$, la posición $x(t_{s})$ y la velocidad $v(t_{s})$, el algoritmo que se utiliza en el método de Velocity-Verlet, es el siguiente:"
   ]
  },
  {
   "cell_type": "code",
   "execution_count": 26,
   "metadata": {},
   "outputs": [],
   "source": [
    "import pandas as pd\n",
    "import numpy as np\n",
    "\n",
    "def vv_posicion(x, v, F, m, dt):\n",
    "    x_next = x       +    v*dt     +      (1/2*m)*F*dt**2\n",
    "    return x_next\n",
    "\n",
    "def vv_velocidad(v, F_anterior, F_actual, m, dt):\n",
    "    \n",
    "    v_next = v + np.divide(F_anterior + F_actual, 2*m)*dt\n",
    "    \n",
    "    return v_next\n",
    "\n",
    "def fr(x, k, m):\n",
    "    \n",
    "    return (-1)*np.divide(k, m)*x\n",
    "\n",
    "\n",
    "k = 1.0\n",
    "m = 1.0\n",
    "\n",
    "x0 = 2.0 # determina la energia total\n",
    "v0 = 0.0\n",
    "f0 = fr(x0, k, m)\n",
    "t0 = 0.0\n",
    "\n",
    "dt = 0.01\n",
    "\n",
    "steps = 1000\n",
    "for i in range(steps):\n",
    "    \n",
    "    x = vv_posicion(x, v, F, m, dt)\n",
    "    f = fr(x, k, m)\n",
    "    v = vv_velocidad(v, F_anterior, F_actual, m, dt)\n",
    "    t+=dt\n",
    "    #t = t0 + i*dt\n",
    "    \n",
    "    \n",
    "    \n",
    "\n"
   ]
  },
  {
   "cell_type": "code",
   "execution_count": 13,
   "metadata": {},
   "outputs": [],
   "source": [
    "import pandas as pd\n",
    "import numpy as np\n",
    "\n",
    "def vv_posicion(x, v, F, m, dt):\n",
    "    x_next = x       +    v*dt     +      (1/2*m)*F*dt**2\n",
    "    return x_next\n",
    "\n",
    "def vv_velocidad(v, F_anterior, F_actual, m, dt):\n",
    "    \n",
    "    v_next = v + np.divide(F_anterior + F_actual, 2*m)*dt\n",
    "    \n",
    "    return v_next\n",
    "\n",
    "def fr(x, k, m):\n",
    "    \n",
    "    return (-1)*np.divide(k, m)*x\n",
    "\n",
    "\n",
    "k = 1.0\n",
    "m = 1.0\n",
    "\n",
    "x0 = 2.0 # determina la energia total\n",
    "v0 = 0.0\n",
    "f0 = fr(x0, k, m)\n",
    "t0 = 0.0\n",
    "\n",
    "dt = 0.01\n",
    "\n",
    "sol = {} #inicializo dicionario\n",
    "\n",
    "sol['t'] = {}\n",
    "sol['x'] = {}\n",
    "sol['v'] = {}\n",
    "sol['f'] = {}\n",
    "\n",
    "idx = 0\n",
    "sol['t'][idx] = t0\n",
    "sol['x'][idx] = x0\n",
    "sol['v'][idx] = v0\n",
    "sol['f'][idx] = f0\n",
    "\n",
    "steps = 1000\n",
    "for i in range(steps):\n",
    "    \n",
    "    # valores anteriores\n",
    "    t = sol['t'][idx]\n",
    "    x = sol['x'][idx]\n",
    "    v = sol['v'][idx]\n",
    "    fa = sol['f'][idx]   #fuerza anterior\n",
    "    \n",
    "    x = vv_posicion(x, v, fa, m, dt) #posicion actual\n",
    "    \n",
    "    fb = fr(x, k, m)     #fuerza actual\n",
    "    \n",
    "    v = vv_velocidad(v, fa, fb, m, dt)\n",
    "    \n",
    "    t = t0 + i*dt\n",
    "    \n",
    "    # valores actutales\n",
    "    idx+=1\n",
    "    sol['t'][idx] = t\n",
    "    sol['x'][idx] = x\n",
    "    sol['v'][idx] = v\n",
    "    sol['f'][idx] = fb\n",
    "    \n",
    "    \n",
    "    \n",
    "\n",
    "df = pd.DataFrame(sol)\n",
    "path = \"solucion_resorte.pkl\"\n",
    "df.to_pickle(path)"
   ]
  },
  {
   "cell_type": "code",
   "execution_count": 3,
   "metadata": {},
   "outputs": [
    {
     "data": {
      "text/html": [
       "<div>\n",
       "<style scoped>\n",
       "    .dataframe tbody tr th:only-of-type {\n",
       "        vertical-align: middle;\n",
       "    }\n",
       "\n",
       "    .dataframe tbody tr th {\n",
       "        vertical-align: top;\n",
       "    }\n",
       "\n",
       "    .dataframe thead th {\n",
       "        text-align: right;\n",
       "    }\n",
       "</style>\n",
       "<table border=\"1\" class=\"dataframe\">\n",
       "  <thead>\n",
       "    <tr style=\"text-align: right;\">\n",
       "      <th></th>\n",
       "      <th>t</th>\n",
       "      <th>x</th>\n",
       "      <th>v</th>\n",
       "      <th>f</th>\n",
       "    </tr>\n",
       "  </thead>\n",
       "  <tbody>\n",
       "    <tr>\n",
       "      <th>0</th>\n",
       "      <td>0.00</td>\n",
       "      <td>2.000000</td>\n",
       "      <td>0.000000</td>\n",
       "      <td>-2.000000</td>\n",
       "    </tr>\n",
       "    <tr>\n",
       "      <th>1</th>\n",
       "      <td>0.00</td>\n",
       "      <td>1.999900</td>\n",
       "      <td>-0.019999</td>\n",
       "      <td>-1.999900</td>\n",
       "    </tr>\n",
       "    <tr>\n",
       "      <th>2</th>\n",
       "      <td>0.01</td>\n",
       "      <td>1.999600</td>\n",
       "      <td>-0.039997</td>\n",
       "      <td>-1.999600</td>\n",
       "    </tr>\n",
       "    <tr>\n",
       "      <th>3</th>\n",
       "      <td>0.02</td>\n",
       "      <td>1.999100</td>\n",
       "      <td>-0.059991</td>\n",
       "      <td>-1.999100</td>\n",
       "    </tr>\n",
       "    <tr>\n",
       "      <th>4</th>\n",
       "      <td>0.03</td>\n",
       "      <td>1.998400</td>\n",
       "      <td>-0.079978</td>\n",
       "      <td>-1.998400</td>\n",
       "    </tr>\n",
       "    <tr>\n",
       "      <th>5</th>\n",
       "      <td>0.04</td>\n",
       "      <td>1.997500</td>\n",
       "      <td>-0.099958</td>\n",
       "      <td>-1.997500</td>\n",
       "    </tr>\n",
       "    <tr>\n",
       "      <th>6</th>\n",
       "      <td>0.05</td>\n",
       "      <td>1.996401</td>\n",
       "      <td>-0.119927</td>\n",
       "      <td>-1.996401</td>\n",
       "    </tr>\n",
       "    <tr>\n",
       "      <th>7</th>\n",
       "      <td>0.06</td>\n",
       "      <td>1.995102</td>\n",
       "      <td>-0.139885</td>\n",
       "      <td>-1.995102</td>\n",
       "    </tr>\n",
       "    <tr>\n",
       "      <th>8</th>\n",
       "      <td>0.07</td>\n",
       "      <td>1.993603</td>\n",
       "      <td>-0.159828</td>\n",
       "      <td>-1.993603</td>\n",
       "    </tr>\n",
       "    <tr>\n",
       "      <th>9</th>\n",
       "      <td>0.08</td>\n",
       "      <td>1.991905</td>\n",
       "      <td>-0.179756</td>\n",
       "      <td>-1.991905</td>\n",
       "    </tr>\n",
       "  </tbody>\n",
       "</table>\n",
       "</div>"
      ],
      "text/plain": [
       "      t         x         v         f\n",
       "0  0.00  2.000000  0.000000 -2.000000\n",
       "1  0.00  1.999900 -0.019999 -1.999900\n",
       "2  0.01  1.999600 -0.039997 -1.999600\n",
       "3  0.02  1.999100 -0.059991 -1.999100\n",
       "4  0.03  1.998400 -0.079978 -1.998400\n",
       "5  0.04  1.997500 -0.099958 -1.997500\n",
       "6  0.05  1.996401 -0.119927 -1.996401\n",
       "7  0.06  1.995102 -0.139885 -1.995102\n",
       "8  0.07  1.993603 -0.159828 -1.993603\n",
       "9  0.08  1.991905 -0.179756 -1.991905"
      ]
     },
     "execution_count": 3,
     "metadata": {},
     "output_type": "execute_result"
    }
   ],
   "source": [
    "df.head(10)"
   ]
  },
  {
   "cell_type": "code",
   "execution_count": 4,
   "metadata": {},
   "outputs": [],
   "source": [
    "import matplotlib.pyplot as plt"
   ]
  },
  {
   "cell_type": "code",
   "execution_count": null,
   "metadata": {},
   "outputs": [],
   "source": [
    "!conda install -c conda-forge matplotlib -y"
   ]
  },
  {
   "cell_type": "code",
   "execution_count": 10,
   "metadata": {},
   "outputs": [
    {
     "data": {
      "image/png": "[encoded data removed]",
      "text/plain": [
       "<Figure size 432x288 with 1 Axes>"
      ]
     },
     "metadata": {
      "needs_background": "light"
     },
     "output_type": "display_data"
    }
   ],
   "source": [
    "import matplotlib.pyplot as plt\n",
    "import pandas as pd\n",
    "import numpy as np\n",
    "%matplotlib inline\n",
    "\n",
    "x = df['x'].values\n",
    "t = df['t'].values\n",
    "\n",
    "plt.plot(t, x, 'r')\n",
    "\n",
    "plt.show()"
   ]
  },
  {
   "cell_type": "markdown",
   "metadata": {},
   "source": [
    "$$x\\left(t\\right)=A\\cos\\left(\\omega t+\\phi\\right)$$"
   ]
  },
  {
   "cell_type": "code",
   "execution_count": 11,
   "metadata": {},
   "outputs": [
    {
     "data": {
      "text/plain": [
       "2.0"
      ]
     },
     "execution_count": 11,
     "metadata": {},
     "output_type": "execute_result"
    }
   ],
   "source": [
    "np.sqrt(4)"
   ]
  },
  {
   "cell_type": "code",
   "execution_count": 4,
   "metadata": {},
   "outputs": [],
   "source": [
    "import numpy as np\n",
    "import pandas as pd\n",
    "import matplotlib.pyplot as plt\n",
    "%matplotlib tk\n",
    "\n",
    "def solx(t, A, k, m):\n",
    "    return A*np.cos(np.sqrt(np.divide(k, m))*t)\n",
    "\n",
    "path = \"solucion_resorte.pkl\"\n",
    "df = pd.read_pickle(path)\n",
    "\n",
    "k = 1.0\n",
    "m = 1.0\n",
    "x0 = 2.0 # determina la energia total\n",
    "A = x0\n",
    "\n",
    "t = df['t'].values\n",
    "xvv = df['x'].values\n",
    "xsol = solx(t, A, k, m)\n",
    "\n",
    "plt.plot(t, xsol, 'r') #rojo solucion analitica\n",
    "plt.plot(t, xvv, 'b') # sol de vverlet\n",
    "plt.show()"
   ]
  },
  {
   "cell_type": "code",
   "execution_count": null,
   "metadata": {},
   "outputs": [],
   "source": []
  }
 ],
 "metadata": {
  "kernelspec": {
   "display_name": "Python 3",
   "language": "python",
   "name": "python3"
  },
  "language_info": {
   "codemirror_mode": {
    "name": "ipython",
    "version": 3
   },
   "file_extension": ".py",
   "mimetype": "text/x-python",
   "name": "python",
   "nbconvert_exporter": "python",
   "pygments_lexer": "ipython3",
   "version": "3.7.1"
  }
 },
 "nbformat": 4,
 "nbformat_minor": 2
}
