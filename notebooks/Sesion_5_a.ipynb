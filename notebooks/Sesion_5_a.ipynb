{
 "cells": [
  {
   "cell_type": "markdown",
   "metadata": {},
   "source": [
    "# Sesion 5"
   ]
  },
  {
   "cell_type": "markdown",
   "metadata": {},
   "source": [
    "# Fuerza de coulomb"
   ]
  },
  {
   "cell_type": "markdown",
   "metadata": {},
   "source": [
    "$$F=\\cfrac{1}{4\\pi\\epsilon_{0}}\\,\\cfrac{q_{a}q_{b}}{r^{2}}$$\n"
   ]
  },
  {
   "cell_type": "markdown",
   "metadata": {},
   "source": [
    "<img src=\"../imgs/atomic-units.png\">"
   ]
  },
  {
   "cell_type": "code",
   "execution_count": 2,
   "metadata": {},
   "outputs": [],
   "source": [
    "# <img src=\"../imgs/hartree.png\">"
   ]
  },
  {
   "cell_type": "code",
   "execution_count": 3,
   "metadata": {},
   "outputs": [],
   "source": [
    "# <img src=\"../imgs/hartree2.png\">"
   ]
  },
  {
   "cell_type": "markdown",
   "metadata": {},
   "source": [
    "### MD units (gromacs)"
   ]
  },
  {
   "cell_type": "markdown",
   "metadata": {},
   "source": [
    "<img src=\"../imgs/gromacs-md-units-1.png\">"
   ]
  },
  {
   "cell_type": "markdown",
   "metadata": {},
   "source": [
    "### Unidades fuerza "
   ]
  },
  {
   "cell_type": "markdown",
   "metadata": {},
   "source": [
    "$$F=f\\,\\cfrac{q^{2}}{r^{2}}$$\n"
   ]
  },
  {
   "cell_type": "markdown",
   "metadata": {},
   "source": [
    "$$f=\\cfrac{1}{4\\pi\\epsilon_{0}}=138.935\\,458\\cfrac{\\mbox{kJ}\\,\\mbox{nm}}{\\mbox{mol}\\,\\mbox{e}^{2}}$$\n"
   ]
  },
  {
   "cell_type": "markdown",
   "metadata": {},
   "source": [
    "$$F\\sim\\cfrac{\\mbox{kJ}\\,\\mbox{nm}}{\\mbox{mol}\\,\\mbox{e}^{2}}\\,\\cfrac{\\mbox{e}^{2}}{\\mbox{nm}^{2}}=\\cfrac{\\mbox{kJ}}{\\mbox{mol}\\,}\\,\\cfrac{1}{\\mbox{nm}}$$\n"
   ]
  },
  {
   "cell_type": "markdown",
   "metadata": {},
   "source": [
    "$$\\left[\\cfrac{\\left(138.93\\times10^{3}\\right)\\mbox{kg}\\,\\mbox{m}^{2}\\,\\mbox{s}^{-2}}{\\left(6.022\\times10^{23}\\right)\\left(10^{-9}\\right)\\mbox{m}}\\right]\\,\\left[\\cfrac{\\left(10^{-24}\\right)\\mbox{s}^{2}}{\\left(1.66\\times10^{-27}\\right)\\mbox{kg}}\\right]=13.89\\,10^{-8}\\mbox{m}$$"
   ]
  },
  {
   "cell_type": "code",
   "execution_count": 4,
   "metadata": {},
   "outputs": [
    {
     "data": {
      "text/plain": [
       "-8"
      ]
     },
     "execution_count": 4,
     "metadata": {},
     "output_type": "execute_result"
    }
   ],
   "source": [
    "(3 -24) - (23 -9 -27) #10s operacion con los 10"
   ]
  },
  {
   "cell_type": "code",
   "execution_count": 5,
   "metadata": {},
   "outputs": [
    {
     "data": {
      "text/plain": [
       "13.897836447083588"
      ]
     },
     "execution_count": 5,
     "metadata": {},
     "output_type": "execute_result"
    }
   ],
   "source": [
    "(138.93/6.022)*(1/1.66) "
   ]
  },
  {
   "cell_type": "code",
   "execution_count": 6,
   "metadata": {},
   "outputs": [],
   "source": [
    "##referencia: pagina 300 manual gromacs 2020, 42p szabo"
   ]
  },
  {
   "cell_type": "markdown",
   "metadata": {},
   "source": [
    "# Método, función Coulomb"
   ]
  },
  {
   "cell_type": "code",
   "execution_count": 8,
   "metadata": {},
   "outputs": [],
   "source": [
    "import numpy as np\n",
    "\n",
    "def coulomb(e1, e2, r):\n",
    "    f = 138.9\n",
    "    return f*np.divide(e1*e2, r*r)\n",
    "\n",
    "\n",
    "\n",
    "    \n",
    "    "
   ]
  },
  {
   "cell_type": "code",
   "execution_count": 10,
   "metadata": {},
   "outputs": [
    {
     "data": {
      "text/plain": [
       "-868.1249999999999"
      ]
     },
     "execution_count": 10,
     "metadata": {},
     "output_type": "execute_result"
    }
   ],
   "source": [
    "e1 = 1.0\n",
    "e2 = -1.0\n",
    "\n",
    "r = 0.4\n",
    "coulomb(e1, e2, r)"
   ]
  },
  {
   "cell_type": "code",
   "execution_count": 19,
   "metadata": {},
   "outputs": [
    {
     "data": {
      "image/png": "[encoded data removed]",
      "text/plain": [
       "<Figure size 432x288 with 1 Axes>"
      ]
     },
     "metadata": {
      "needs_background": "light"
     },
     "output_type": "display_data"
    }
   ],
   "source": [
    "import matplotlib.pyplot as plt\n",
    "import pandas as pd\n",
    "import numpy as np\n",
    "%matplotlib inline\n",
    "\n",
    "def coulomb(e1, e2, r):\n",
    "    f = 138.9\n",
    "    return f*np.divide(e1*e2, r*r)\n",
    "\n",
    "e1 = 1.0\n",
    "e2 = 1.0\n",
    "\n",
    "r = 0.4\n",
    "\n",
    "rs = np.arange(0.15, 0.4, 0.01)\n",
    "cs = coulomb(e1, e2, rs)\n",
    "\n",
    "plt.plot(rs, cs, 'r')\n",
    "plt.show()"
   ]
  },
  {
   "cell_type": "code",
   "execution_count": 15,
   "metadata": {},
   "outputs": [
    {
     "data": {
      "text/plain": [
       "array([0.15, 0.16, 0.17, 0.18, 0.19, 0.2 , 0.21, 0.22, 0.23, 0.24, 0.25,\n",
       "       0.26, 0.27, 0.28, 0.29, 0.3 , 0.31, 0.32, 0.33, 0.34, 0.35, 0.36,\n",
       "       0.37, 0.38, 0.39])"
      ]
     },
     "execution_count": 15,
     "metadata": {},
     "output_type": "execute_result"
    }
   ],
   "source": [
    "rs"
   ]
  },
  {
   "cell_type": "code",
   "execution_count": 20,
   "metadata": {},
   "outputs": [
    {
     "data": {
      "image/png": "[encoded data removed]",
      "text/plain": [
       "<Figure size 432x288 with 1 Axes>"
      ]
     },
     "metadata": {
      "needs_background": "light"
     },
     "output_type": "display_data"
    }
   ],
   "source": [
    "\n",
    "\n",
    "import matplotlib.pyplot as plt\n",
    "import pandas as pd\n",
    "import numpy as np\n",
    "%matplotlib inline\n",
    "\n",
    "def coulomb(e1, e2, r):\n",
    "    f = 138.9\n",
    "    return f*np.divide(e1*e2, r*r)\n",
    "\n",
    "e1 = 1.0\n",
    "e2 = 1.0\n",
    "\n",
    "r = 0.4\n",
    "\n",
    "rs = np.arange(0.15, 0.4, 0.01)\n",
    "cs = coulomb(e1, e2, rs)\n",
    "\n",
    "plt.plot(rs, cs, 'r')\n",
    "plt.show()\n",
    "\n"
   ]
  },
  {
   "cell_type": "markdown",
   "metadata": {},
   "source": [
    "# Incorporandolo a velocity verlet"
   ]
  },
  {
   "cell_type": "code",
   "execution_count": null,
   "metadata": {},
   "outputs": [],
   "source": [
    "def vv_posicion(x, v, F, m, dt):\n",
    "    \n",
    "    x_next = x + v*dt + np.divide(F, 2*m)*np.power(dt, 2)\n",
    "    \n",
    "    return x_next\n",
    "\n",
    "def vv_velocidad(v, F_anterior, F_actual, m, dt):\n",
    "    \n",
    "    v_next = v + np.divide(F_anterior + F_actual, 2*m)*dt\n",
    "    \n",
    "    return v_next"
   ]
  },
  {
   "cell_type": "code",
   "execution_count": null,
   "metadata": {},
   "outputs": [],
   "source": [
    "import matplotlib.pyplot as plt\n",
    "import pandas as pd\n",
    "import numpy as np\n",
    "%matplotlib inline\n",
    "\n",
    "\n",
    "def coulomb(e1, e2, r):\n",
    "    f = 138.9\n",
    "    return f*np.divide(e1*e2, r*r)\n",
    "\n",
    "def vv_posicion(x, v, F, m, dt):\n",
    "    x_next = x + v*dt + np.divide(F, 2*m)*np.power(dt, 2)\n",
    "    return x_next\n",
    "\n",
    "def vv_velocidad(v, F_anterior, F_actual_b, m, dt):\n",
    "    v_next = v + np.divide(F_anterior + F_actual_b, 2*m)*dt\n",
    "    return v_next\n",
    "\n",
    "\n",
    "m1 = 22.98\n",
    "m2 = 35.45\n",
    "\n",
    "e1 = 1.0\n",
    "e2 = -1.0\n",
    "\n",
    "dt = 0.01\n",
    "pasos = 1000\n",
    "\n",
    "# creando diccionario\n",
    "sol = {}\n",
    "sol['x'] = {}\n",
    "sol['y'] = {}\n",
    "sol['z'] = {}\n",
    "\n",
    "sol['vx'] = {}\n",
    "sol['vy'] = {}\n",
    "sol['vz'] = {}\n",
    "\n",
    "sol['fx'] = {}\n",
    "sol['fy'] = {}\n",
    "sol['fz'] = {}\n",
    "\n",
    "sol['t'] = {}\n",
    "\n",
    "# agregando los valores iniciales\n",
    "idx = 0\n",
    "sol['x'][idx] = x0 \n",
    "sol['y'][idx] = y0\n",
    "sol['z'][idx] = z0\n",
    "\n",
    "sol['vx'][idx] = vx0\n",
    "sol['vy'][idx] = vy0\n",
    "sol['vz'][idx] = vz0\n",
    "\n",
    "sol['fx'][idx] = 0.0\n",
    "sol['fy'][idx] = 0.0\n",
    "sol['fz'][idx] = 0.0 \n",
    "\n",
    "sol['t'][idx] = t0\n",
    "\n",
    "for i in range(pasos):\n",
    "    \n",
    "    x = sol['x'][idx]\n",
    "    v = sol['vx'][idx]\n",
    "    fa = sol['fx'][idx]\n",
    "    \n",
    "    x = vv_posicion(x, v, F, m, dt) \n",
    "    \n",
    "    fb = coulomb(e1, e2, r)\n",
    "    \n",
    "    v = vv_velocidad(v, fa, fb, m, dt)\n",
    "    \n",
    "    idx+=1\n",
    "    t+=dt\n",
    "    \n",
    "    sol['x'][idx] = x\n",
    "    sol['vx'][idx] = vx\n",
    "    sol['fx'][idx] = fb\n",
    "    sol['t'][idx] = t\n",
    "    \n",
    "    # OJO NO TERMINADO, ESTO ES EN GENERAL\n",
    "    \n",
    "\n"
   ]
  },
  {
   "cell_type": "code",
   "execution_count": 21,
   "metadata": {},
   "outputs": [],
   "source": [
    "# agregar latex"
   ]
  },
  {
   "cell_type": "code",
   "execution_count": 22,
   "metadata": {},
   "outputs": [],
   "source": [
    "import numpy as np\n",
    "\n",
    "def coulomb(qi, qj, ri, rj):\n",
    "    f = 138.935\n",
    "    \n",
    "    rij = np.subtract(rj, ri)\n",
    "    \n",
    "    # cambiar despues ojo\n",
    "    rij3 = np.power(np.linalg.norm(rij), 3)\n",
    "    \n",
    "    \n",
    "    return f*np.divide(qi*qj, rij3)*rij"
   ]
  },
  {
   "cell_type": "code",
   "execution_count": 13,
   "metadata": {},
   "outputs": [
    {
     "data": {
      "text/html": [
       "<div>\n",
       "<style scoped>\n",
       "    .dataframe tbody tr th:only-of-type {\n",
       "        vertical-align: middle;\n",
       "    }\n",
       "\n",
       "    .dataframe tbody tr th {\n",
       "        vertical-align: top;\n",
       "    }\n",
       "\n",
       "    .dataframe thead th {\n",
       "        text-align: right;\n",
       "    }\n",
       "</style>\n",
       "<table border=\"1\" class=\"dataframe\">\n",
       "  <thead>\n",
       "    <tr style=\"text-align: right;\">\n",
       "      <th></th>\n",
       "      <th>x</th>\n",
       "      <th>y</th>\n",
       "      <th>z</th>\n",
       "      <th>vx</th>\n",
       "      <th>vy</th>\n",
       "      <th>vz</th>\n",
       "      <th>fx</th>\n",
       "      <th>fy</th>\n",
       "      <th>fz</th>\n",
       "      <th>t</th>\n",
       "    </tr>\n",
       "  </thead>\n",
       "  <tbody>\n",
       "    <tr>\n",
       "      <th>0</th>\n",
       "      <td>-5.000000</td>\n",
       "      <td>0.0</td>\n",
       "      <td>0.0</td>\n",
       "      <td>3.000000</td>\n",
       "      <td>0.0</td>\n",
       "      <td>0.0</td>\n",
       "      <td>0.000000</td>\n",
       "      <td>0.0</td>\n",
       "      <td>0.0</td>\n",
       "      <td>0.00</td>\n",
       "    </tr>\n",
       "    <tr>\n",
       "      <th>1</th>\n",
       "      <td>-4.970000</td>\n",
       "      <td>0.0</td>\n",
       "      <td>0.0</td>\n",
       "      <td>2.998777</td>\n",
       "      <td>0.0</td>\n",
       "      <td>0.0</td>\n",
       "      <td>-5.624694</td>\n",
       "      <td>-0.0</td>\n",
       "      <td>-0.0</td>\n",
       "      <td>0.01</td>\n",
       "    </tr>\n",
       "    <tr>\n",
       "      <th>2</th>\n",
       "      <td>-4.940024</td>\n",
       "      <td>0.0</td>\n",
       "      <td>0.0</td>\n",
       "      <td>2.996315</td>\n",
       "      <td>0.0</td>\n",
       "      <td>0.0</td>\n",
       "      <td>-5.693161</td>\n",
       "      <td>-0.0</td>\n",
       "      <td>-0.0</td>\n",
       "      <td>0.02</td>\n",
       "    </tr>\n",
       "    <tr>\n",
       "      <th>3</th>\n",
       "      <td>-4.910074</td>\n",
       "      <td>0.0</td>\n",
       "      <td>0.0</td>\n",
       "      <td>2.993823</td>\n",
       "      <td>0.0</td>\n",
       "      <td>0.0</td>\n",
       "      <td>-5.762828</td>\n",
       "      <td>-0.0</td>\n",
       "      <td>-0.0</td>\n",
       "      <td>0.03</td>\n",
       "    </tr>\n",
       "    <tr>\n",
       "      <th>4</th>\n",
       "      <td>-4.880148</td>\n",
       "      <td>0.0</td>\n",
       "      <td>0.0</td>\n",
       "      <td>2.991301</td>\n",
       "      <td>0.0</td>\n",
       "      <td>0.0</td>\n",
       "      <td>-5.833721</td>\n",
       "      <td>-0.0</td>\n",
       "      <td>-0.0</td>\n",
       "      <td>0.04</td>\n",
       "    </tr>\n",
       "  </tbody>\n",
       "</table>\n",
       "</div>"
      ],
      "text/plain": [
       "          x    y    z        vx   vy   vz        fx   fy   fz     t\n",
       "0 -5.000000  0.0  0.0  3.000000  0.0  0.0  0.000000  0.0  0.0  0.00\n",
       "1 -4.970000  0.0  0.0  2.998777  0.0  0.0 -5.624694 -0.0 -0.0  0.01\n",
       "2 -4.940024  0.0  0.0  2.996315  0.0  0.0 -5.693161 -0.0 -0.0  0.02\n",
       "3 -4.910074  0.0  0.0  2.993823  0.0  0.0 -5.762828 -0.0 -0.0  0.03\n",
       "4 -4.880148  0.0  0.0  2.991301  0.0  0.0 -5.833721 -0.0 -0.0  0.04"
      ]
     },
     "execution_count": 13,
     "metadata": {},
     "output_type": "execute_result"
    }
   ],
   "source": [
    "\n",
    "\n",
    "import matplotlib.pyplot as plt\n",
    "import pandas as pd\n",
    "import numpy as np\n",
    "%matplotlib inline\n",
    "\n",
    "def coulomb(qi, qj, ri, rj):\n",
    "    f = 138.935\n",
    "    rij = np.subtract(rj, ri)\n",
    "    rij3 = np.power(np.linalg.norm(rij), 3)\n",
    "    return f*np.divide(qi*qj, rij3)*rij\n",
    "\n",
    "def vv_posicion(x, v, F, m, dt):\n",
    "    x_next = x + v*dt + np.divide(F, 2*m)*np.power(dt, 2)\n",
    "    return x_next\n",
    "\n",
    "def vv_velocidad(v, F_anterior, F_actual, m, dt):\n",
    "    v_next = v + np.divide(F_anterior + F_actual, 2*m)*dt\n",
    "    return v_next\n",
    "\n",
    "\n",
    "mi = 22.989    # \n",
    "mj = 35.453    #\n",
    "\n",
    "qi = 1.0       # \n",
    "qj = 1.0       # \n",
    "\n",
    "dt = 0.01\n",
    "pasos = 1000\n",
    "\n",
    "# creamos diccionario\n",
    "sol = {}\n",
    "coords = ['x', 'y', 'z']\n",
    "vels = ['vx', 'vy', 'vz']\n",
    "fs = ['fx', 'fy', 'fz']\n",
    "\n",
    "keys = coords\n",
    "keys.extend(vels)\n",
    "keys.extend(fs)\n",
    "keys.append('t')\n",
    "\n",
    "for key in keys:\n",
    "    sol[key] = {}\n",
    "    \n",
    "\n",
    "idx = 0\n",
    "x0, y0, z0 = -5.0, 0.0, 0.0\n",
    "vx0, vy0, vz0 = 3.0, 0.0, 0.0 \n",
    "fx0, fy0, fz0 = 0.0, 0.0, 0.0\n",
    "t0 = 0.0\n",
    "\n",
    "sol['x'][idx] = x0\n",
    "sol['y'][idx] = y0\n",
    "sol['z'][idx] = z0\n",
    "\n",
    "sol['vx'][idx] = vx0\n",
    "sol['vy'][idx] = vy0\n",
    "sol['vz'][idx] = vz0\n",
    "\n",
    "sol['fx'][idx] = fx0\n",
    "sol['fy'][idx] = fy0\n",
    "sol['fz'][idx] = fz0\n",
    "\n",
    "sol['t'][idx] = t0\n",
    "\n",
    "for i in range(pasos):\n",
    "    \n",
    "    # llamar valores anteriores\n",
    "    x = sol['x'][idx]\n",
    "    y = sol['y'][idx]\n",
    "    z = sol['z'][idx] \n",
    "\n",
    "    vx = sol['vx'][idx]\n",
    "    vy = sol['vy'][idx] \n",
    "    vz = sol['vz'][idx] \n",
    "\n",
    "    fxa = sol['fx'][idx]\n",
    "    fya = sol['fy'][idx]\n",
    "    fza = sol['fz'][idx]\n",
    "    \n",
    "    t = sol['t'][idx]\n",
    "    \n",
    "    # parte de velocity verlet\n",
    "    x = vv_posicion(x, vx, fxa, mi, dt)\n",
    "    y = vv_posicion(y, vy, fya, mi, dt)\n",
    "    z = vv_posicion(z, vz, fza, mi, dt)\n",
    "    \n",
    "    ri = [x, y, z]\n",
    "    fc = (-1)*coulomb(qi, qj, ri, [0.0, 0.0, 0.0])\n",
    "    \n",
    "    fxb = fc[0]\n",
    "    fyb = fc[1]\n",
    "    fzb = fc[2]\n",
    "\n",
    "    vx = vv_velocidad(vx, fxa, fxb, mi, dt)    \n",
    "    vy = vv_velocidad(vy, fya, fyb, mi, dt)    \n",
    "    vz = vv_velocidad(vz, fza, fzb, mi, dt)\n",
    "    \n",
    "    # evolucionames siguiente paso\n",
    "    idx+=1\n",
    "    t = t + dt\n",
    "    \n",
    "    sol['x'][idx] = x\n",
    "    sol['y'][idx] = y\n",
    "    sol['z'][idx] = z\n",
    "\n",
    "    sol['vx'][idx] = vx\n",
    "    sol['vy'][idx] = vy\n",
    "    sol['vz'][idx] = vz\n",
    "\n",
    "    sol['fx'][idx] = fxb\n",
    "    sol['fy'][idx] = fyb\n",
    "    sol['fz'][idx] = fzb\n",
    "    \n",
    "    sol['t'][idx] = t\n",
    "    \n",
    "    \n",
    "    \n",
    "df = pd.DataFrame(sol)\n",
    "df.head()\n",
    "\n"
   ]
  },
  {
   "cell_type": "code",
   "execution_count": 9,
   "metadata": {},
   "outputs": [
    {
     "data": {
      "text/plain": [
       "pandas.core.series.Series"
      ]
     },
     "execution_count": 9,
     "metadata": {},
     "output_type": "execute_result"
    }
   ],
   "source": [
    "type(df['x'])"
   ]
  },
  {
   "cell_type": "code",
   "execution_count": 14,
   "metadata": {},
   "outputs": [
    {
     "data": {
      "image/png": "[encoded data removed]",
      "text/plain": [
       "<Figure size 432x288 with 1 Axes>"
      ]
     },
     "metadata": {
      "needs_background": "light"
     },
     "output_type": "display_data"
    },
    {
     "data": {
      "image/png": "[encoded data removed]",
      "text/plain": [
       "<Figure size 432x288 with 1 Axes>"
      ]
     },
     "metadata": {
      "needs_background": "light"
     },
     "output_type": "display_data"
    }
   ],
   "source": [
    "import matplotlib.pyplot as plt\n",
    "import pandas as pd\n",
    "import numpy as np\n",
    "%matplotlib inline\n",
    "\n",
    "x = df['x'].values\n",
    "vx = df['vx'].values\n",
    "t = df['t'].values\n",
    "\n",
    "plt.plot(t, vx, 'r')\n",
    "plt.show()\n",
    "plt.plot(t, x)\n",
    "plt.show()"
   ]
  },
  {
   "cell_type": "code",
   "execution_count": 17,
   "metadata": {},
   "outputs": [],
   "source": [
    "from matplotlib.animation import FuncAnimation\n",
    "import matplotlib.animation as animation\n",
    "plt.style.use('seaborn-whitegrid')\n",
    "%matplotlib tk\n",
    "\n",
    "fig = plt.figure()\n",
    "ax1 = fig.add_subplot(1,1,1)\n",
    "colors = np.array([0.1, 0.4])\n",
    "sizes = 1000*np.array([1.0, 2.0])\n",
    "\n",
    "Lx = 5.0\n",
    "Ly = Lx\n",
    "\n",
    "xj = 0.0\n",
    "yj = 0.0\n",
    "\n",
    "def animateee(i):\n",
    "    x = [sol['x'][i], xj]\n",
    "    y = [sol['y'][i], yj]\n",
    "\n",
    "    ax1.clear()\n",
    "    plt.scatter(x, y, c=colors, s=sizes, alpha=0.5, cmap='viridis')\n",
    "    plt.xlim(-Lx, Lx)\n",
    "    plt.ylim(-Ly, Ly)\n",
    "    \n",
    "#     print(i)\n",
    "\n",
    "\n",
    "ani = FuncAnimation(fig, func=animateee, frames=np.arange(0, pasos, 10), interval=1)\n",
    "    "
   ]
  },
  {
   "cell_type": "markdown",
   "metadata": {},
   "source": [
    "# Agregar condiciones periodicas"
   ]
  },
  {
   "cell_type": "code",
   "execution_count": null,
   "metadata": {},
   "outputs": [],
   "source": [
    "import matplotlib.pyplot as plt\n",
    "from matplotlib.animation import FuncAnimation\n",
    "import matplotlib.animation as animation\n",
    "import pandas as pd\n",
    "import numpy as np\n",
    "plt.style.use('seaborn-whitegrid')\n",
    "import numpy as np\n",
    "%matplotlib tk\n",
    "\n",
    "def coulomb(qi, qj, ri, rj):\n",
    "    f = 138.935\n",
    "    rij = np.subtract(rj, ri)\n",
    "    rij3 = np.power(np.linalg.norm(rij), 3)\n",
    "    return f*np.divide(qi*qj, rij3)*rij\n",
    "\n",
    "def vv_posicion(x, v, F, m, dt):\n",
    "    x_next = x + v*dt + np.divide(F, 2*m)*np.power(dt, 2)\n",
    "    return x_next\n",
    "\n",
    "def vv_velocidad(v, F_anterior, F_actual, m, dt):\n",
    "    v_next = v + np.divide(F_anterior + F_actual, 2*m)*dt\n",
    "    return v_next\n",
    "\n",
    "\n",
    "mi = 22.989    # sodio\n",
    "mj = 35.453    # cloro\n",
    "\n",
    "qi = 1.0       # sodio\n",
    "qj = 1.0       # cloro\n",
    "\n",
    "dt = 0.01\n",
    "pasos = 1000\n",
    "\n",
    "sol = {}\n",
    "coords = ['x', 'y', 'z']\n",
    "vels = ['vx', 'vy', 'vz']\n",
    "fs = ['fx', 'fy', 'fz']\n",
    "\n",
    "keys = coords\n",
    "keys.extend(vels)\n",
    "keys.extend(fs)\n",
    "keys.append('t')\n",
    "\n",
    "for key in keys:\n",
    "    sol[key] = {}\n",
    "\n",
    "idx = 0\n",
    "Lx, Ly, Lz = 5.0, 5.0, 5.0\n",
    "xj, yj, zj = Lx/2, Ly/2, Lz/2\n",
    "\n",
    "x0, y0, z0 = 0.0, Ly/2  + 0.0, Lz/2\n",
    "vx0, vy0, vz0 = 3.0, 0, 0 \n",
    "fx0, fy0, fz0 = 0, 0, 0\n",
    "t0 = 0.0\n",
    "\n",
    "sol['x'][idx] = x0\n",
    "sol['y'][idx] = y0\n",
    "sol['z'][idx] = z0\n",
    "\n",
    "sol['vx'][idx] = vx0\n",
    "sol['vy'][idx] = vy0\n",
    "sol['vz'][idx] = vz0\n",
    "\n",
    "sol['fx'][idx] = fx0\n",
    "sol['fy'][idx] = fy0\n",
    "sol['fz'][idx] = fz0\n",
    "\n",
    "sol['t'][idx] = t0\n",
    "\n",
    "for i in range(pasos):\n",
    "    \n",
    "    x = sol['x'][idx]\n",
    "    y = sol['y'][idx]\n",
    "    z = sol['z'][idx] \n",
    "\n",
    "    vx = sol['vx'][idx]\n",
    "    vy = sol['vy'][idx] \n",
    "    vz = sol['vz'][idx] \n",
    "\n",
    "    fxa = sol['fx'][idx]\n",
    "    fya = sol['fy'][idx]\n",
    "    fza = sol['fz'][idx]\n",
    "    \n",
    "    t = sol['t'][idx]\n",
    "\n",
    "    x = np.mod(vv_posicion(x, vx, fxa, mi, dt), Lx)\n",
    "    y = np.mod(vv_posicion(y, vy, fya, mi, dt), Ly)\n",
    "    z = np.mod(vv_posicion(z, vz, fza, mi, dt), Lz)\n",
    "    \n",
    "    ri = [x, y, z]\n",
    "    fc = (-1)*coulomb(qi, qj, ri, [xj, yj, zj])\n",
    "    \n",
    "    fxb = fc[0]\n",
    "    fyb = fc[1]\n",
    "    fzb = fc[2]\n",
    "\n",
    "    vx = vv_velocidad(vx, fxa, fxb, mi, dt)    \n",
    "    vy = vv_velocidad(vy, fya, fyb, mi, dt)    \n",
    "    vz = vv_velocidad(vz, fza, fzb, mi, dt)\n",
    "    \n",
    "    idx+=1\n",
    "    t = t + dt\n",
    "    \n",
    "    sol['x'][idx] = x\n",
    "    sol['y'][idx] = y\n",
    "    sol['z'][idx] = z\n",
    "\n",
    "    sol['vx'][idx] = vx\n",
    "    sol['vy'][idx] = vy\n",
    "    sol['vz'][idx] = vz\n",
    "\n",
    "    sol['fx'][idx] = fxb\n",
    "    sol['fy'][idx] = fyb\n",
    "    sol['fz'][idx] = fzb\n",
    "    \n",
    "    sol['t'][idx] = t\n",
    "    \n",
    "    \n",
    "df = pd.DataFrame(sol)\n",
    "\n",
    "fig = plt.figure()\n",
    "ax1 = fig.add_subplot(1,1,1)\n",
    "colors = np.array([0.1, 0.4])\n",
    "sizes = 1000*np.array([1.0, 2.0])\n",
    "\n",
    "def animate(i):\n",
    "    x = [sol['x'][i], xj]\n",
    "    y = [sol['y'][i], yj]\n",
    "\n",
    "    ax1.clear()\n",
    "    plt.scatter(x, y, c=colors, s=sizes, alpha=0.5, cmap='viridis')\n",
    "    plt.xlim(0, Lx)\n",
    "    plt.ylim(0, Ly) \n",
    "\n",
    "\n",
    "ani = FuncAnimation(fig, func=animate, frames=np.arange(0, pasos, 1), interval=1)   \n",
    "    \n",
    "\n",
    "\n",
    "\n"
   ]
  }
 ],
 "metadata": {
  "kernelspec": {
   "display_name": "Python 3",
   "language": "python",
   "name": "python3"
  },
  "language_info": {
   "codemirror_mode": {
    "name": "ipython",
    "version": 3
   },
   "file_extension": ".py",
   "mimetype": "text/x-python",
   "name": "python",
   "nbconvert_exporter": "python",
   "pygments_lexer": "ipython3",
   "version": "3.7.7"
  }
 },
 "nbformat": 4,
 "nbformat_minor": 4
}
