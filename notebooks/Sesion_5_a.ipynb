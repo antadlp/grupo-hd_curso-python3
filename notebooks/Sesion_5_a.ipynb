{
 "cells": [
  {
   "cell_type": "markdown",
   "metadata": {},
   "source": [
    "# Sesion 5"
   ]
  },
  {
   "cell_type": "markdown",
   "metadata": {},
   "source": [
    "# Fuerza de coulomb"
   ]
  },
  {
   "cell_type": "markdown",
   "metadata": {},
   "source": [
    "$$F=\\cfrac{1}{4\\pi\\epsilon_{0}}\\,\\cfrac{q_{a}q_{b}}{r^{2}}$$\n"
   ]
  },
  {
   "cell_type": "markdown",
   "metadata": {},
   "source": [
    "<img src=\"../imgs/atomic-units.png\">"
   ]
  },
  {
   "cell_type": "code",
   "execution_count": 2,
   "metadata": {},
   "outputs": [],
   "source": [
    "# <img src=\"../imgs/hartree.png\">"
   ]
  },
  {
   "cell_type": "code",
   "execution_count": 3,
   "metadata": {},
   "outputs": [],
   "source": [
    "# <img src=\"../imgs/hartree2.png\">"
   ]
  },
  {
   "cell_type": "markdown",
   "metadata": {},
   "source": [
    "### MD units (gromacs)"
   ]
  },
  {
   "cell_type": "markdown",
   "metadata": {},
   "source": [
    "<img src=\"../imgs/gromacs-md-units-1.png\">"
   ]
  },
  {
   "cell_type": "markdown",
   "metadata": {},
   "source": [
    "### Unidades fuerza "
   ]
  },
  {
   "cell_type": "markdown",
   "metadata": {},
   "source": [
    "$$F=f\\,\\cfrac{q^{2}}{r^{2}}$$\n"
   ]
  },
  {
   "cell_type": "markdown",
   "metadata": {},
   "source": [
    "$$f=\\cfrac{1}{4\\pi\\epsilon_{0}}=138.935\\,458\\cfrac{\\mbox{kJ}\\,\\mbox{nm}}{\\mbox{mol}\\,\\mbox{e}^{2}}$$\n"
   ]
  },
  {
   "cell_type": "markdown",
   "metadata": {},
   "source": [
    "$$F\\sim\\cfrac{\\mbox{kJ}\\,\\mbox{nm}}{\\mbox{mol}\\,\\mbox{e}^{2}}\\,\\cfrac{\\mbox{e}^{2}}{\\mbox{nm}^{2}}=\\cfrac{\\mbox{kJ}}{\\mbox{mol}\\,}\\,\\cfrac{1}{\\mbox{nm}}$$\n"
   ]
  },
  {
   "cell_type": "markdown",
   "metadata": {},
   "source": [
    "$$\\left[\\cfrac{\\left(138.93\\times10^{3}\\right)\\mbox{kg}\\,\\mbox{m}^{2}\\,\\mbox{s}^{-2}}{\\left(6.022\\times10^{23}\\right)\\left(10^{-9}\\right)\\mbox{m}}\\right]\\,\\left[\\cfrac{\\left(10^{-24}\\right)\\mbox{s}^{2}}{\\left(1.66\\times10^{-27}\\right)\\mbox{kg}}\\right]=13.89\\,10^{-8}\\mbox{m}$$"
   ]
  },
  {
   "cell_type": "code",
   "execution_count": 4,
   "metadata": {},
   "outputs": [
    {
     "data": {
      "text/plain": [
       "-8"
      ]
     },
     "execution_count": 4,
     "metadata": {},
     "output_type": "execute_result"
    }
   ],
   "source": [
    "(3 -24) - (23 -9 -27) #10s operacion con los 10"
   ]
  },
  {
   "cell_type": "code",
   "execution_count": 5,
   "metadata": {},
   "outputs": [
    {
     "data": {
      "text/plain": [
       "13.897836447083588"
      ]
     },
     "execution_count": 5,
     "metadata": {},
     "output_type": "execute_result"
    }
   ],
   "source": [
    "(138.93/6.022)*(1/1.66) "
   ]
  },
  {
   "cell_type": "code",
   "execution_count": 6,
   "metadata": {},
   "outputs": [],
   "source": [
    "##referencia: pagina 300 manual gromacs 2020, 42p szabo"
   ]
  },
  {
   "cell_type": "markdown",
   "metadata": {},
   "source": [
    "# Método, función Coulomb"
   ]
  },
  {
   "cell_type": "code",
   "execution_count": 8,
   "metadata": {},
   "outputs": [],
   "source": [
    "import numpy as np\n",
    "\n",
    "def coulomb(e1, e2, r):\n",
    "    f = 138.9\n",
    "    return f*np.divide(e1*e2, r*r)\n",
    "\n",
    "\n",
    "\n",
    "    \n",
    "    "
   ]
  },
  {
   "cell_type": "code",
   "execution_count": 10,
   "metadata": {},
   "outputs": [
    {
     "data": {
      "text/plain": [
       "-868.1249999999999"
      ]
     },
     "execution_count": 10,
     "metadata": {},
     "output_type": "execute_result"
    }
   ],
   "source": [
    "e1 = 1.0\n",
    "e2 = -1.0\n",
    "\n",
    "r = 0.4\n",
    "coulomb(e1, e2, r)"
   ]
  },
  {
   "cell_type": "code",
   "execution_count": 19,
   "metadata": {},
   "outputs": [
    {
     "data": {
      "image/png": "[encoded data removed]",
      "text/plain": [
       "<Figure size 432x288 with 1 Axes>"
      ]
     },
     "metadata": {
      "needs_background": "light"
     },
     "output_type": "display_data"
    }
   ],
   "source": [
    "import matplotlib.pyplot as plt\n",
    "import pandas as pd\n",
    "import numpy as np\n",
    "%matplotlib inline\n",
    "\n",
    "def coulomb(e1, e2, r):\n",
    "    f = 138.9\n",
    "    return f*np.divide(e1*e2, r*r)\n",
    "\n",
    "e1 = 1.0\n",
    "e2 = 1.0\n",
    "\n",
    "r = 0.4\n",
    "\n",
    "rs = np.arange(0.15, 0.4, 0.01)\n",
    "cs = coulomb(e1, e2, rs)\n",
    "\n",
    "plt.plot(rs, cs, 'r')\n",
    "plt.show()"
   ]
  },
  {
   "cell_type": "code",
   "execution_count": 15,
   "metadata": {},
   "outputs": [
    {
     "data": {
      "text/plain": [
       "array([0.15, 0.16, 0.17, 0.18, 0.19, 0.2 , 0.21, 0.22, 0.23, 0.24, 0.25,\n",
       "       0.26, 0.27, 0.28, 0.29, 0.3 , 0.31, 0.32, 0.33, 0.34, 0.35, 0.36,\n",
       "       0.37, 0.38, 0.39])"
      ]
     },
     "execution_count": 15,
     "metadata": {},
     "output_type": "execute_result"
    }
   ],
   "source": [
    "rs"
   ]
  },
  {
   "cell_type": "code",
   "execution_count": null,
   "metadata": {},
   "outputs": [],
   "source": []
  }
 ],
 "metadata": {
  "kernelspec": {
   "display_name": "Python 3",
   "language": "python",
   "name": "python3"
  },
  "language_info": {
   "codemirror_mode": {
    "name": "ipython",
    "version": 3
   },
   "file_extension": ".py",
   "mimetype": "text/x-python",
   "name": "python",
   "nbconvert_exporter": "python",
   "pygments_lexer": "ipython3",
   "version": "3.7.7"
  }
 },
 "nbformat": 4,
 "nbformat_minor": 4
}
