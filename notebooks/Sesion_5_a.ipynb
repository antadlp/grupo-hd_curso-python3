{
 "cells": [
  {
   "cell_type": "markdown",
   "metadata": {},
   "source": [
    "# Sesion 5"
   ]
  },
  {
   "cell_type": "markdown",
   "metadata": {},
   "source": [
    "# Fuerza de coulomb"
   ]
  },
  {
   "cell_type": "markdown",
   "metadata": {},
   "source": [
    "$$F=\\cfrac{1}{4\\pi\\epsilon_{0}}\\,\\cfrac{q_{a}q_{b}}{r^{2}}$$\n"
   ]
  },
  {
   "cell_type": "code",
   "execution_count": 1,
   "metadata": {},
   "outputs": [],
   "source": [
    "# <img src=\"../imgs/atomic-units.png\">"
   ]
  },
  {
   "cell_type": "code",
   "execution_count": 2,
   "metadata": {},
   "outputs": [],
   "source": [
    "# <img src=\"../imgs/hartree.png\">"
   ]
  },
  {
   "cell_type": "code",
   "execution_count": 3,
   "metadata": {},
   "outputs": [],
   "source": [
    "# <img src=\"../imgs/hartree2.png\">"
   ]
  },
  {
   "cell_type": "markdown",
   "metadata": {},
   "source": [
    "### MD units (gromacs)"
   ]
  },
  {
   "cell_type": "markdown",
   "metadata": {},
   "source": [
    "<img src=\"../imgs/gromacs-md-units-1.png\">"
   ]
  },
  {
   "cell_type": "markdown",
   "metadata": {},
   "source": [
    "### Unidades fuerza "
   ]
  },
  {
   "cell_type": "markdown",
   "metadata": {},
   "source": [
    "$$F=f\\,\\cfrac{q^{2}}{r^{2}}$$\n"
   ]
  },
  {
   "cell_type": "markdown",
   "metadata": {},
   "source": [
    "$$f=\\cfrac{1}{4\\pi\\epsilon_{0}}=138.935\\,458\\cfrac{\\mbox{kJ}\\,\\mbox{nm}}{\\mbox{mol}\\,\\mbox{e}^{2}}$$\n"
   ]
  },
  {
   "cell_type": "markdown",
   "metadata": {},
   "source": [
    "$$F\\sim\\cfrac{\\mbox{kJ}\\,\\mbox{nm}}{\\mbox{mol}\\,\\mbox{e}^{2}}\\,\\cfrac{\\mbox{e}^{2}}{\\mbox{nm}^{2}}=\\cfrac{\\mbox{kJ}}{\\mbox{mol}\\,}\\,\\cfrac{1}{\\mbox{nm}}$$\n"
   ]
  },
  {
   "cell_type": "markdown",
   "metadata": {},
   "source": [
    "$$\\left[\\cfrac{\\left(138.93\\times10^{3}\\right)\\mbox{kg}\\,\\mbox{m}^{2}\\,\\mbox{s}^{-2}}{\\left(6.022\\times10^{23}\\right)\\left(10^{-9}\\right)\\mbox{m}}\\right]\\,\\left[\\cfrac{\\left(10^{-24}\\right)\\mbox{s}^{2}}{\\left(1.66\\times10^{-27}\\right)\\mbox{kg}}\\right]=13.89\\,10^{-8}\\mbox{m}$$"
   ]
  },
  {
   "cell_type": "code",
   "execution_count": 4,
   "metadata": {},
   "outputs": [
    {
     "data": {
      "text/plain": [
       "-8"
      ]
     },
     "execution_count": 4,
     "metadata": {},
     "output_type": "execute_result"
    }
   ],
   "source": [
    "(3 -24) - (23 -9 -27) #10s"
   ]
  },
  {
   "cell_type": "code",
   "execution_count": 5,
   "metadata": {},
   "outputs": [
    {
     "data": {
      "text/plain": [
       "13.897836447083588"
      ]
     },
     "execution_count": 5,
     "metadata": {},
     "output_type": "execute_result"
    }
   ],
   "source": [
    "(138.93/6.022)*(1/1.66) "
   ]
  },
  {
   "cell_type": "code",
   "execution_count": 6,
   "metadata": {},
   "outputs": [],
   "source": [
    "##referencia: pagina 300 manual gromacs 2020, 42p szabo"
   ]
  },
  {
   "cell_type": "code",
   "execution_count": null,
   "metadata": {},
   "outputs": [],
   "source": [
    "# Método, función Coulomb"
   ]
  }
 ],
 "metadata": {
  "kernelspec": {
   "display_name": "Python 3",
   "language": "python",
   "name": "python3"
  },
  "language_info": {
   "codemirror_mode": {
    "name": "ipython",
    "version": 3
   },
   "file_extension": ".py",
   "mimetype": "text/x-python",
   "name": "python",
   "nbconvert_exporter": "python",
   "pygments_lexer": "ipython3",
   "version": "3.7.7"
  }
 },
 "nbformat": 4,
 "nbformat_minor": 4
}
